{
 "cells": [
  {
   "cell_type": "code",
   "execution_count": 2,
   "metadata": {},
   "outputs": [],
   "source": [
    "import numpy as np\n",
    "import scipy.stats as st\n",
    "import matplotlib.pyplot as plt\n",
    "plt.style.use('default')"
   ]
  },
  {
   "cell_type": "markdown",
   "metadata": {},
   "source": [
    "# Binomial "
   ]
  },
  {
   "cell_type": "code",
   "execution_count": 4,
   "metadata": {},
   "outputs": [
    {
     "data": {
      "text/plain": [
       "0.017553552486323537"
      ]
     },
     "execution_count": 4,
     "metadata": {},
     "output_type": "execute_result"
    }
   ],
   "source": [
    "# ========================================= 1:\n",
    "# p = 0.599\n",
    "# n = 11\n",
    "# st.binom.pmf(3, n, p)\n",
    "\n",
    "# ========================================= 2:\n",
    "# p = 0.515\n",
    "# n = 15\n",
    "# 1 - st.binom.cdf(2, n, p)\n",
    "\n",
    "# ========================================= 3:\n",
    "# p = 0.513\n",
    "# n = 14\n",
    "# f1 = st.binom.cdf(2, n, p)\n",
    "\n",
    "# # P (x <= 4 | x <= 2)\n",
    "# st.binom.cdf(4, n, p) - st.binom.cdf(1, n, p)\n",
    "\n",
    "# # ========================================= 4:\n",
    "# p = 0.563\n",
    "# n = 15\n",
    "\n",
    "# st.binom.std(n, p)\n",
    "\n",
    "# ========================================= 5:\n",
    "# p = 0.112\n",
    "# n = 81\n",
    "\n",
    "# st.binom.pmf(15, n, p)"
   ]
  },
  {
   "cell_type": "markdown",
   "metadata": {},
   "source": [
    "# Poisson "
   ]
  },
  {
   "cell_type": "code",
   "execution_count": 45,
   "metadata": {},
   "outputs": [
    {
     "data": {
      "text/plain": [
       "0.0007805892152216586"
      ]
     },
     "execution_count": 45,
     "metadata": {},
     "output_type": "execute_result"
    }
   ],
   "source": [
    "# ============================== 1:\n",
    "# L = 1.14 / 10\n",
    "\n",
    "# st.poisson.pmf(1, L)\n",
    "\n",
    "# (st.poisson.cdf(2, L) - st.poisson.cdf(0, L)) / st.poisson.pmf(0, L)\n",
    "\n",
    "# ============================== 2:\n",
    "# L = 0.73\n",
    "# print(1 - st.poisson.cdf(0, L))\n",
    "\n",
    "# print((st.poisson.cdf(17, L * 7) - st.poisson.cdf(11, L * 7)) / (1 - st.poisson.cdf(0, L * 7)))\n",
    "\n",
    "# print(st.binom.pmf(23, 36, 1 - st.poisson.cdf(0, L)))\n",
    "\n",
    "# ============================== 3:\n",
    "# p = 0.015\n",
    "# n = 122\n",
    "\n",
    "# p_um_bloco = 1 - st.binom.cdf(0, n, p)\n",
    "# print(p_um_bloco)\n",
    "\n",
    "# # p (X >= 2 | x >= 1) \n",
    "# print((1 - st.binom.cdf(1, n, p)) / p_um_bloco)\n",
    "\n",
    "# n * p\n",
    "\n",
    "# st.binom.std(n, p)\n",
    "\n",
    "# ============================== 4:\n",
    "# L = 6.9\n",
    "# 1 - st.poisson.cdf(1, L)\n",
    "\n",
    "# ============================== 5:\n",
    "avistamentos = np.array([181, 194, 208, 176, 199, 190, 177, 235, 211, 203])\n",
    "L = avistamentos.mean()\n",
    "\n",
    "st.poisson.cdf(154, L)"
   ]
  }
 ],
 "metadata": {
  "kernelspec": {
   "display_name": "Python 3",
   "language": "python",
   "name": "python3"
  },
  "language_info": {
   "codemirror_mode": {
    "name": "ipython",
    "version": 3
   },
   "file_extension": ".py",
   "mimetype": "text/x-python",
   "name": "python",
   "nbconvert_exporter": "python",
   "pygments_lexer": "ipython3",
   "version": "3.11.6"
  }
 },
 "nbformat": 4,
 "nbformat_minor": 2
}
