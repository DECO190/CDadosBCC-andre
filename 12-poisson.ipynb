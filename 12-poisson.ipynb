{
 "cells": [
  {
   "cell_type": "markdown",
   "metadata": {},
   "source": [
    "# Aula 12\n",
    "**Objetivo: ao fim desta aula, ao aluno será capaz de avaliar se distribuições de Poisson são adequadas para modelar acontecimentos discretos ao longo do tempo**"
   ]
  },
  {
   "cell_type": "markdown",
   "metadata": {},
   "source": [
    "## Texto introdutório\n",
    "\n",
    "Até o momento, sabemos usar uma distribuição binomial. Numa distribuição binomial, jogamos $n$ vezes uma moeda enviesada (com probabilidade $p$ de \"dar cara\"), e contamos o número total de ensaios que \"deram cara\". Temos a expectativa (esperança) de encontrar $\\lambda=np$ \"cara\"s.\n",
    "\n",
    "Vamos pensar agora que estamos jogando uma moeda a cada pequeno intervalo de tempo - por exemplo, uma moeda por segundo - ao longo de um intervalo maior - por exemplo, um minuto. Nesse caso, temos uma binomial com $n=60$. Porém, em alguns casos, o intervalo de tempo entre cada \"jogada de moeda\" é infinitesimalmente pequeno, e, por isso, $n \\rightarrow \\infty$. Porém, nossa probabilidade $p$ de \"dar cara\" também é muito pequena, e por isso $\\lambda=np$ é um valor finito (e possivelmente pequeno).\n",
    "\n",
    "Nesse caso, temos uma nova distribuição, que é obtida quando calculamos:\n",
    "$$\n",
    "P(X=k) = \\lim_{n \\rightarrow \\infty} \\frac{n!}{k!(n-k)!} p^k (1-p)^{(n-k)}\n",
    "$$\n",
    "\n",
    "Após vários passos algébricos (que podem ser acompanhados [aqui](https://medium.com/@andrew.chamberlain/deriving-the-poisson-distribution-from-the-binomial-distribution-840cc1668239)), chegamos a:\n",
    "\n",
    "$$\n",
    "P(X=k) = \\frac{e^{-\\lambda}\\lambda^k}{k!}.\n",
    "$$\n",
    "\n",
    "Essa distribuição é chamada de distribuição de Poisson, e escrevemos: $X$~$Poisson(\\lambda)$. Essa distribuição nos dá a **probabilidade de encontrar um número $k$ de eventos no intervalo para o qual determinamos a distribuição**. Nessa distribuição, $\\lambda$ é o número médio de eventos que ocorrem no intervalo considerado. Note que, embora tenhamos pensado na distribuição Poisson para um intervalo contínuo, o mesmo raciocínio poderia ser aplicado para espaços físicos.\n",
    "\n",
    "Para que um experimento possa ser modelado por uma distribuição de Poisson, ele precisa ter as seguintes propriedades:\n",
    "\n",
    "- Probabilidade de uma ocorrência é a mesma para dois intervalos quaisquer de igual tamanho;\n",
    "- A ocorrência ou não num dado intervalo é independente da ocorrência ou não em outro intervalo.\n",
    "\n",
    "<div id=\"esperanca-variancia\"></div>\n",
    "\n",
    "### Esperança e Variância\n",
    "\n",
    "Se $X$~$Poisson(\\lambda)$, o valor esperado $E(X)$ e a variância $Var(X)$ são dados por:\n",
    "\n",
    "$\\qquad\\qquad E(X) = \\lambda$\n",
    "\n",
    "$\\qquad\\qquad Var(X) = \\lambda$"
   ]
  },
  {
   "cell_type": "code",
   "execution_count": 1,
   "metadata": {},
   "outputs": [
    {
     "data": {
      "image/png": "[encoded data removed]",
      "text/plain": [
       "<Figure size 800x200 with 1 Axes>"
      ]
     },
     "metadata": {},
     "output_type": "display_data"
    }
   ],
   "source": [
    "# Como é a \"cara\" de uma distribuição Poisson?\n",
    "\n",
    "import scipy.stats as stats\n",
    "import matplotlib.pyplot as plt\n",
    "\n",
    "plt.figure(figsize=(8,2))\n",
    "plt.bar(range(30), stats.poisson.pmf(range(30), 2))\n",
    "plt.xlabel('Número de eventos')\n",
    "plt.ylabel('Probabilidade')\n",
    "plt.show()"
   ]
  },
  {
   "cell_type": "markdown",
   "metadata": {},
   "source": [
    "# Exercício 1\n",
    "*Objetivo: usar uma distribuição de Poisson para julgar probabilidades*\n",
    "\n",
    "Em uma partida de futebol, acontecem gols. Não pode haver dois gols ao mesmo tempo. Os gols acontecem a qualquer momento. Podemos quebrar o tempo da partida em intervalos bem pequenos e assumir que, em cada um deles, há uma probabilidade $p$ de haver gol - é como se jogássemos uma \"moeda invisível\" que, se der cara, sai um gol. Por isso, a quantidade de gols por partida em uma partida de futebol pode ser modelada por uma distribuição de Poisson.\n",
    "\n",
    "No nosso conjunto de dados do Corinthians, temos uma coluna sobre o número de gols (total) por partida. Como o futebol mudou bastante desde sua origem (especialmente em relação a táticas e preparo dos jogadores) vamos usar apenas os jogos de 2010 em diante, de forma que nossos dados refletem apenas jogos mais modernos.\n",
    "\n",
    "(a) O único parâmetro da distribuição Poisson ($\\lambda$) é a esperança do número de gols em uma partida. Estime esse parâmetro à partir dos dados que você tem.\n",
    "\n",
    "(b) Usando *os dados*, calcule a probabilidade de uma partida escolhida aleatoriamente ter zero gols.\n",
    "\n",
    "(c) Usando *o modelo*, calcule a probabilidade de uma partida ter zero gols."
   ]
  },
  {
   "cell_type": "code",
   "execution_count": 2,
   "metadata": {},
   "outputs": [],
   "source": [
    "# Resolva seu exercício aqui\n",
    "import pandas as pd\n",
    "import scipy.stats as st\n",
    "df = pd.read_csv('dados/corinthians/jogos_do_corinthians.csv')\n",
    "df = df[ df['ANO']>=2010 ]\n",
    "\n",
    "p_zer = len(df[df[\"GOLS\"] == 0]) / len(df)\n"
   ]
  },
  {
   "cell_type": "code",
   "execution_count": null,
   "metadata": {},
   "outputs": [],
   "source": []
  },
  {
   "cell_type": "markdown",
   "metadata": {},
   "source": [
    "# Exercício 2\n",
    "*Objetivo: aplicar a distribuição Poisson junto da Binomial para avaliar uma probabilidade frente a dados*\n",
    "\n",
    "Construímos agora um modelo que permite prever a probabilidade $p_0$ de termos um jogo do Corinthians com zero gol. Um \"jogo não ter nenhum gol\" pode ser entendido como equivalente a jogar uma moeda enviesada que, se der cara, o jogo empata em zero a zero. Então, o conjunto de jogos que empataram zero a zero deve seguir uma distribuição binomial com parâmetro $p=p_0$.\n",
    "\n",
    "Em nossos dados, temos um número $k$ de jogos que, de fato, foram empate, e um número $n$ total de jogos. A probabilidade $k/n$ é um pouco diferente de $p_0$, como vimos acima.\n",
    "\n",
    "(a) Se $p_0$ é, de fato, a probabilidade de haver um empate zero a zero, qual é a probabilidade de encontrarmos uma observação tão ou mais extrema que aquela dada por $k$ e $n$ (dica: reveja a aula anterior, exercícios 4 e 5)?\n",
    "\n",
    "(b) Essa probabilidade é suficientemente baixa para rejeitarmos a hipótese de que a probabilidade de um empate zero a zero é $p_0$?"
   ]
  },
  {
   "cell_type": "code",
   "execution_count": 3,
   "metadata": {},
   "outputs": [],
   "source": [
    "import scipy.stats as st\n",
    "import pandas as pd\n",
    "# Lembre-se de: st.binom.cdf"
   ]
  },
  {
   "cell_type": "markdown",
   "metadata": {},
   "source": [
    "# Exercício 3\n",
    "*Objetivo: usar a função ppf e comparar com percentis medidos*\n",
    "\n",
    "A função `ppf(x)` do scipy retorna o valor abaixo do qual está concentrada uma probabilidade `x`. Isso é bastante semelhante a um percentil. Por exemplo, a chamada:"
   ]
  },
  {
   "cell_type": "code",
   "execution_count": 4,
   "metadata": {},
   "outputs": [
    {
     "data": {
      "text/plain": [
       "13.0"
      ]
     },
     "execution_count": 4,
     "metadata": {},
     "output_type": "execute_result"
    }
   ],
   "source": [
    "import scipy.stats as st\n",
    "st.binom.ppf(0.9, 20, 0.5)"
   ]
  },
  {
   "cell_type": "markdown",
   "metadata": {},
   "source": [
    "significa que há uma probabilidade de $0.9$ de encontrarmos 13 ou menos caras em 20 jogadas de uma moeda honesta.\n",
    "\n",
    "Semelhantemente, o percentil $x$ nos diz o valor abaixo do qual está $x\\%$ de nossa amostra.\n",
    "\n",
    "Usando os jogos do Corinthians:\n",
    "\n",
    "(a) Pelo modelo teórico, qual é a quantidade de gols máxima que abarca 95% dos jogos?\n",
    "\n",
    "(b) Qual é o percentil 95 dos dados?"
   ]
  },
  {
   "cell_type": "code",
   "execution_count": 5,
   "metadata": {},
   "outputs": [
    {
     "ename": "NameError",
     "evalue": "name 'L' is not defined",
     "output_type": "error",
     "traceback": [
      "\u001b[0;31m---------------------------------------------------------------------------\u001b[0m",
      "\u001b[0;31mNameError\u001b[0m                                 Traceback (most recent call last)",
      "\u001b[1;32m/Users/andreoliveira/Documents/INSPER/CDadosBCC-andre/12-poisson.ipynb Cell 12\u001b[0m line \u001b[0;36m1\n\u001b[0;32m----> <a href='vscode-notebook-cell:/Users/andreoliveira/Documents/INSPER/CDadosBCC-andre/12-poisson.ipynb#X14sZmlsZQ%3D%3D?line=0'>1</a>\u001b[0m gmax_teorico \u001b[39m=\u001b[39m st\u001b[39m.\u001b[39mpoisson\u001b[39m.\u001b[39mppf(\u001b[39m0.95\u001b[39m, L)\n\u001b[1;32m      <a href='vscode-notebook-cell:/Users/andreoliveira/Documents/INSPER/CDadosBCC-andre/12-poisson.ipynb#X14sZmlsZQ%3D%3D?line=1'>2</a>\u001b[0m gmax_real \u001b[39m=\u001b[39m df[\u001b[39m'\u001b[39m\u001b[39mGOLS\u001b[39m\u001b[39m'\u001b[39m]\u001b[39m.\u001b[39mquantile(\u001b[39m0.95\u001b[39m)\n\u001b[1;32m      <a href='vscode-notebook-cell:/Users/andreoliveira/Documents/INSPER/CDadosBCC-andre/12-poisson.ipynb#X14sZmlsZQ%3D%3D?line=3'>4</a>\u001b[0m \u001b[39mprint\u001b[39m(gmax_teorico, gmax_real)\n",
      "\u001b[0;31mNameError\u001b[0m: name 'L' is not defined"
     ]
    }
   ],
   "source": [
    "gmax_teorico = st.poisson.ppf(0.95, L)\n",
    "gmax_real = df['GOLS'].quantile(0.95)\n",
    "\n",
    "print(gmax_teorico, gmax_real)"
   ]
  },
  {
   "cell_type": "markdown",
   "metadata": {},
   "source": [
    "# Exercício 4\n",
    "*Objetivo: interpretar qq-plots para observar a semelhança entre dados medidos e modelos*\n",
    "\n",
    "Uma maneira de verificar se dados seguem, de fato, alguma distribuição é observando um plot dos percentis dos dados (`ppf`) contra os quantis dos dados. Se eles formarem uma reta, provavelmente os dados podem ser razoavelmente bem modelados pela distribuição. Esse gráfico se chama QQ-plot (quantile-quantile plot). Veja dois exemplos:"
   ]
  },
  {
   "cell_type": "code",
   "execution_count": null,
   "metadata": {},
   "outputs": [
    {
     "data": {
      "image/png": "[encoded data removed]",
      "text/plain": [
       "<Figure size 300x300 with 1 Axes>"
      ]
     },
     "metadata": {},
     "output_type": "display_data"
    },
    {
     "name": "stdout",
     "output_type": "stream",
     "text": [
      "0.8636363636363632 0.7418181818181839 0.9654750744565173\n"
     ]
    }
   ],
   "source": [
    "# Exemplo 1: usei uma distribuição binomial para gerar exemplos,\n",
    "# e a própria distribuição como referência:\n",
    "import scipy.stats as st\n",
    "import matplotlib.pyplot as plt\n",
    "\n",
    "dados = st.binom.rvs(n=10, p=0.5, size=100)\n",
    "plt.figure(figsize=(3,3))\n",
    "(osm, osr), (slope, intercept, r) = st.probplot(dados, dist=st.binom(n=10,p=0.5), plot=plt)\n",
    "plt.show()\n",
    "\n",
    "# Os parâmetros slope, intercept e r se referem à reta que está sendo ajustada aos dados:\n",
    "# * slope é a inclinação\n",
    "# * intercept é o eixo y quando x=0\n",
    "# * r é a correlação entre as duas variáveis (teórica e medida)\n",
    "# * a reta deveria ser y=intercept + slope*x, com intercept=0 e slope=1\n",
    "print(slope, intercept, r)\n"
   ]
  },
  {
   "cell_type": "code",
   "execution_count": null,
   "metadata": {},
   "outputs": [
    {
     "data": {
      "image/png": "[encoded data removed]",
      "text/plain": [
       "<Figure size 300x300 with 1 Axes>"
      ]
     },
     "metadata": {},
     "output_type": "display_data"
    },
    {
     "name": "stdout",
     "output_type": "stream",
     "text": [
      "2.743243243243244 -25.13864864864866 0.9797812398534294\n"
     ]
    }
   ],
   "source": [
    "# Exemplo 2: usei uma distribuição binomial para gerar exemplos,\n",
    "# e uma outra distribuição como referência:\n",
    "import scipy.stats as st\n",
    "import matplotlib.pyplot as plt\n",
    "\n",
    "dados = st.randint.rvs(low=0, high=30, size=100)\n",
    "plt.figure(figsize=(3,3))\n",
    "(osm, osr), (slope, intercept, r) = st.probplot(dados, dist=st.binom(n=30,p=0.5), plot=plt)\n",
    "plt.show()\n",
    "print(slope, intercept, r)"
   ]
  },
  {
   "cell_type": "markdown",
   "metadata": {},
   "source": [
    "Observando os exemplos, como podemos observar evidências de que os dados correspondem à distribuição usada no QQ-plot...\n",
    "\n",
    "(a) Em relação ao *slope*?\n",
    "\n",
    "(b) Em relação ao *intercept*?\n",
    "\n",
    "(c) Em relação ao *r*?\n",
    "\n",
    "(d) Em relação ao formato do gráfico?"
   ]
  },
  {
   "cell_type": "markdown",
   "metadata": {},
   "source": [
    "# Exercício 5\n",
    "*Objetivo: usar o QQ-plot para analisar se uma distribuição corresponde a dados teóricos*\n",
    "\n",
    "Usando o QQ-plot, verifique se a distribuição Poisson que você calculou nos exercícios anteriores é adequada para modelar a quantidade de gols por partida em jogos do Corinthians."
   ]
  },
  {
   "cell_type": "code",
   "execution_count": null,
   "metadata": {},
   "outputs": [],
   "source": [
    "# Resolva seu exercício aqui."
   ]
  },
  {
   "cell_type": "markdown",
   "metadata": {},
   "source": [
    "# Exercício 6\n",
    "*Objetivo: diferenciar uma distribuição Binomial de uma distribuição Poisson*\n",
    "\n",
    "Nos casos abaixos, discuta se você deve usar uma distribuição Binomial ou uma distribuição Poisson, quais seriam os parâmetros (número de ensaios, probabilidade ou $\\lambda$) da distribuição e use a distribuição para responder à pergunta.\n",
    "\n",
    "1. Um restaurante recebe em média 15 clientes durante o horário do almoço. Qual é a probabilidade dele receber mais de 20 clientes em um dia específico?\n",
    "2. Sabemos que um cliente do restaurante tem 30% de chance de pedir salada. Se tivermos 20 clientes, qual é a probabilidade de o restaurante servir mais de 6 saladas na hora do almoço.\n",
    "3. Um restaurante recebe em média 30 clientes durante o horário do almoço. Cada cliente tem 25% de chance de pedir salada. Qual é a probabilidade de o restaurante servir mais de 10 saladas durante o almoço?\n",
    "4. Um trecho de rodovia tem, em média, 2 buracos por km. Qual é a probabilidade de encontrarmos mais de 50 buracos ao longo de um trecho de 10km?\n",
    "5. Uma loja recebe uma média de 10 clientes por hora. Qual é a probabilidade de aparecerem menos de 30 clientes ao longo de todo o horário comercial (8h seguidas)?\n"
   ]
  },
  {
   "cell_type": "code",
   "execution_count": null,
   "metadata": {},
   "outputs": [],
   "source": [
    "# Resolva seu exercício aqui"
   ]
  },
  {
   "cell_type": "markdown",
   "metadata": {},
   "source": [
    "## PrairieLearn"
   ]
  },
  {
   "cell_type": "code",
   "execution_count": 41,
   "metadata": {},
   "outputs": [
    {
     "data": {
      "text/plain": [
       "0.0012782019428231658"
      ]
     },
     "execution_count": 41,
     "metadata": {},
     "output_type": "execute_result"
    }
   ],
   "source": [
    "# ============================== 1:\n",
    "# p = 0.83 / 10\n",
    "\n",
    "# print(1 - st.poisson.pmf(0, p))\n",
    "\n",
    "# P(1 <= d <= 2 | p >= 1) = P(1 <= d <= 2) / P(p >= 1)\n",
    "# print((st.poisson.cdf(2, p) - st.poisson.cdf(0, p) ) / (1 - st.poisson.cdf(0, p) ))\n",
    "\n",
    "# print(1 - st.binom.cdf(2, 10, 1 - st.poisson.pmf(0, p)))\n",
    "\n",
    "# ============================== 2:\n",
    "# L = 0.67\n",
    "\n",
    "# # P (x >= 1)\n",
    "# print(1 - st.poisson.cdf(0, L))\n",
    "\n",
    "# print((st.poisson.cdf(16, L * 7) - st.poisson.cdf(10, L * 7)) / (1 - st.poisson.pmf(0, L * 7)))\n",
    "\n",
    "# print(st.binom.pmf(20, 41, 1 - st.poisson.cdf(0, L)))\n",
    "\n",
    "# ============================== 3:\n",
    "# n = 89\n",
    "# p = 0.011\n",
    "# k = 1\n",
    "# p1 = (1 - st.binom.cdf(k-1, n, p))\n",
    "\n",
    "# # P(x >= 2 | x >= 1) = P(x>=2) / P(x>=1)\n",
    "# # https://i.ibb.co/cypKyNC/IMG-1149.jpg\n",
    "# p2 = ((1 - st.binom.cdf(k, n, p)) / p1)\n",
    "\n",
    "# # p = k / n - sabe-se o p e o n e quer o k\n",
    "# p3 = n * p\n",
    "\n",
    "# p4 = st.binom.std(n, p)\n",
    "\n",
    "# print(p1)\n",
    "# print(p2)\n",
    "# print(p3)\n",
    "# print(p4)\n",
    "\n",
    "# ================================== 4:\n",
    "\n",
    "# n = 49\n",
    "# k = 6.1\n",
    "# p = k / n\n",
    "\n",
    "# 1 - st.binom.cdf(1, n, p)\n",
    "\n",
    "# ================================== 5:\n",
    "import numpy as np\n",
    "\n",
    "avistamentos = np.array([197, 162, 173, 183, 180, 174, 181, 186, 176, 171])\n",
    "k = avistamentos.mean()\n",
    "\n",
    "print(k)\n",
    "st.poisson.cdf(42, k)\n",
    "\n",
    "\n"
   ]
  },
  {
   "cell_type": "code",
   "execution_count": null,
   "metadata": {},
   "outputs": [],
   "source": []
  }
 ],
 "metadata": {
  "interpreter": {
   "hash": "48a163085726af4aa892ebfc5efd6be8ee4b935d9ea37781e4f79f4457b77d39"
  },
  "kernelspec": {
   "display_name": "Python 3.7.12 ('base')",
   "language": "python",
   "name": "python3"
  },
  "language_info": {
   "codemirror_mode": {
    "name": "ipython",
    "version": 3
   },
   "file_extension": ".py",
   "mimetype": "text/x-python",
   "name": "python",
   "nbconvert_exporter": "python",
   "pygments_lexer": "ipython3",
   "version": "3.11.6"
  }
 },
 "nbformat": 4,
 "nbformat_minor": 2
}
