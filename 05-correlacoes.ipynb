{
 "cells": [
  {
   "cell_type": "markdown",
   "metadata": {},
   "source": [
    "# Aula 6 - Análises com duas variáveis\n",
    "**Objetivo da aula**: ao fim desta aula, o aluno será capaz de encontrar correlações entre variáveis para gerar decisões e planejamentos baseados em evidências."
   ]
  },
  {
   "cell_type": "code",
   "execution_count": 1,
   "metadata": {},
   "outputs": [],
   "source": [
    "import pandas as pd\n",
    "import matplotlib.pyplot as plt\n",
    "plt.style.use('default')\n",
    "import seaborn as sns\n"
   ]
  },
  {
   "cell_type": "markdown",
   "metadata": {},
   "source": [
    "# Exercício 1\n",
    "*Objetivo: usar um índice de dataframe*\n",
    "\n",
    "Quando criamos um dataframe, em geral \"ganhamos\" uma coluna extra à esquerda, que é o número da linha. Por exemplo:"
   ]
  },
  {
   "cell_type": "code",
   "execution_count": 2,
   "metadata": {},
   "outputs": [
    {
     "data": {
      "text/html": [
       "<div>\n",
       "<style scoped>\n",
       "    .dataframe tbody tr th:only-of-type {\n",
       "        vertical-align: middle;\n",
       "    }\n",
       "\n",
       "    .dataframe tbody tr th {\n",
       "        vertical-align: top;\n",
       "    }\n",
       "\n",
       "    .dataframe thead th {\n",
       "        text-align: right;\n",
       "    }\n",
       "</style>\n",
       "<table border=\"1\" class=\"dataframe\">\n",
       "  <thead>\n",
       "    <tr style=\"text-align: right;\">\n",
       "      <th></th>\n",
       "      <th>Nome</th>\n",
       "      <th>Altura</th>\n",
       "      <th>Magia</th>\n",
       "      <th>Anel</th>\n",
       "    </tr>\n",
       "  </thead>\n",
       "  <tbody>\n",
       "    <tr>\n",
       "      <th>0</th>\n",
       "      <td>Bilbo</td>\n",
       "      <td>Baixo</td>\n",
       "      <td>Não</td>\n",
       "      <td>Sim</td>\n",
       "    </tr>\n",
       "    <tr>\n",
       "      <th>1</th>\n",
       "      <td>Frodo</td>\n",
       "      <td>Baixo</td>\n",
       "      <td>Não</td>\n",
       "      <td>Sim</td>\n",
       "    </tr>\n",
       "    <tr>\n",
       "      <th>2</th>\n",
       "      <td>Gandalf</td>\n",
       "      <td>Alto</td>\n",
       "      <td>Sim</td>\n",
       "      <td>Não</td>\n",
       "    </tr>\n",
       "    <tr>\n",
       "      <th>3</th>\n",
       "      <td>Aragorn</td>\n",
       "      <td>Alto</td>\n",
       "      <td>Não</td>\n",
       "      <td>Não</td>\n",
       "    </tr>\n",
       "  </tbody>\n",
       "</table>\n",
       "</div>"
      ],
      "text/plain": [
       "      Nome Altura Magia Anel\n",
       "0    Bilbo  Baixo   Não  Sim\n",
       "1    Frodo  Baixo   Não  Sim\n",
       "2  Gandalf   Alto   Sim  Não\n",
       "3  Aragorn   Alto   Não  Não"
      ]
     },
     "execution_count": 2,
     "metadata": {},
     "output_type": "execute_result"
    }
   ],
   "source": [
    "dados = {'Nome': ['Bilbo', 'Frodo', 'Gandalf', 'Aragorn'],\n",
    "        'Altura': ['Baixo', 'Baixo', 'Alto', 'Alto'],\n",
    "        'Magia': ['Não', 'Não', 'Sim', 'Não'],\n",
    "        'Anel': ['Sim', 'Sim', 'Não', 'Não']}\n",
    "\n",
    "sda1 = pd.DataFrame(dados)\n",
    "sda1.head()"
   ]
  },
  {
   "cell_type": "markdown",
   "metadata": {},
   "source": [
    "O índice permite usar o método `.loc` para encontrar dados de uma linha específica:"
   ]
  },
  {
   "cell_type": "code",
   "execution_count": 3,
   "metadata": {},
   "outputs": [
    {
     "name": "stdout",
     "output_type": "stream",
     "text": [
      "Nome      Frodo\n",
      "Altura    Baixo\n",
      "Magia       Não\n",
      "Anel        Sim\n",
      "Name: 1, dtype: object\n"
     ]
    }
   ],
   "source": [
    "print(sda1.loc[1])"
   ]
  },
  {
   "cell_type": "markdown",
   "metadata": {},
   "source": [
    "É comum, porém, que queiramos acessar nossos dados por alguma chave específica, que faça mais sentido com o nosso problema. Por exemplo, talvez queiramos acessar nossos dados de exemplo usando o nome das personagens como chave. Nesse caso, podemos usar o método `.set_index()`:"
   ]
  },
  {
   "cell_type": "code",
   "execution_count": 4,
   "metadata": {},
   "outputs": [
    {
     "name": "stdout",
     "output_type": "stream",
     "text": [
      "Altura    Baixo\n",
      "Magia       Não\n",
      "Anel        Sim\n",
      "Name: Frodo, dtype: object\n"
     ]
    }
   ],
   "source": [
    "sda1 = sda1.set_index('Nome')\n",
    "print(sda1.loc['Frodo'])"
   ]
  },
  {
   "cell_type": "markdown",
   "metadata": {},
   "source": [
    "Usando a reindexação, encontre o PIB per capita do Brasil, da Argentina, do Uruguai e do Paraguai nos dados do banco mundial."
   ]
  },
  {
   "cell_type": "code",
   "execution_count": 17,
   "metadata": {},
   "outputs": [
    {
     "data": {
      "text/html": [
       "<div>\n",
       "<style scoped>\n",
       "    .dataframe tbody tr th:only-of-type {\n",
       "        vertical-align: middle;\n",
       "    }\n",
       "\n",
       "    .dataframe tbody tr th {\n",
       "        vertical-align: top;\n",
       "    }\n",
       "\n",
       "    .dataframe thead th {\n",
       "        text-align: right;\n",
       "    }\n",
       "</style>\n",
       "<table border=\"1\" class=\"dataframe\">\n",
       "  <thead>\n",
       "    <tr style=\"text-align: right;\">\n",
       "      <th></th>\n",
       "      <th>Country Name</th>\n",
       "      <th>Country Code</th>\n",
       "      <th>Indicator Name</th>\n",
       "      <th>Indicator Code</th>\n",
       "      <th>1960</th>\n",
       "      <th>1961</th>\n",
       "      <th>1962</th>\n",
       "      <th>1963</th>\n",
       "      <th>1964</th>\n",
       "      <th>1965</th>\n",
       "      <th>...</th>\n",
       "      <th>2012</th>\n",
       "      <th>2013</th>\n",
       "      <th>2014</th>\n",
       "      <th>2015</th>\n",
       "      <th>2016</th>\n",
       "      <th>2017</th>\n",
       "      <th>2018</th>\n",
       "      <th>2019</th>\n",
       "      <th>2020</th>\n",
       "      <th>Unnamed: 65</th>\n",
       "    </tr>\n",
       "  </thead>\n",
       "  <tbody>\n",
       "    <tr>\n",
       "      <th>0</th>\n",
       "      <td>Aruba</td>\n",
       "      <td>ABW</td>\n",
       "      <td>GDP per capita (current US$)</td>\n",
       "      <td>NY.GDP.PCAP.CD</td>\n",
       "      <td>NaN</td>\n",
       "      <td>NaN</td>\n",
       "      <td>NaN</td>\n",
       "      <td>NaN</td>\n",
       "      <td>NaN</td>\n",
       "      <td>NaN</td>\n",
       "      <td>...</td>\n",
       "      <td>24712.493263</td>\n",
       "      <td>26441.619936</td>\n",
       "      <td>26893.011506</td>\n",
       "      <td>28396.908423</td>\n",
       "      <td>28452.170615</td>\n",
       "      <td>29350.805019</td>\n",
       "      <td>30253.279358</td>\n",
       "      <td>NaN</td>\n",
       "      <td>NaN</td>\n",
       "      <td>NaN</td>\n",
       "    </tr>\n",
       "    <tr>\n",
       "      <th>1</th>\n",
       "      <td>Africa Eastern and Southern</td>\n",
       "      <td>AFE</td>\n",
       "      <td>GDP per capita (current US$)</td>\n",
       "      <td>NY.GDP.PCAP.CD</td>\n",
       "      <td>147.612227</td>\n",
       "      <td>147.014904</td>\n",
       "      <td>156.189192</td>\n",
       "      <td>182.243917</td>\n",
       "      <td>162.347592</td>\n",
       "      <td>180.214908</td>\n",
       "      <td>...</td>\n",
       "      <td>1736.166560</td>\n",
       "      <td>1713.899299</td>\n",
       "      <td>1703.596298</td>\n",
       "      <td>1549.037940</td>\n",
       "      <td>1431.778723</td>\n",
       "      <td>1573.063386</td>\n",
       "      <td>1574.978648</td>\n",
       "      <td>1530.059177</td>\n",
       "      <td>1359.618224</td>\n",
       "      <td>NaN</td>\n",
       "    </tr>\n",
       "    <tr>\n",
       "      <th>2</th>\n",
       "      <td>Afghanistan</td>\n",
       "      <td>AFG</td>\n",
       "      <td>GDP per capita (current US$)</td>\n",
       "      <td>NY.GDP.PCAP.CD</td>\n",
       "      <td>59.773234</td>\n",
       "      <td>59.860900</td>\n",
       "      <td>58.458009</td>\n",
       "      <td>78.706429</td>\n",
       "      <td>82.095307</td>\n",
       "      <td>101.108325</td>\n",
       "      <td>...</td>\n",
       "      <td>638.845852</td>\n",
       "      <td>624.315455</td>\n",
       "      <td>614.223342</td>\n",
       "      <td>556.007221</td>\n",
       "      <td>512.012778</td>\n",
       "      <td>516.679862</td>\n",
       "      <td>485.668419</td>\n",
       "      <td>494.179350</td>\n",
       "      <td>516.747871</td>\n",
       "      <td>NaN</td>\n",
       "    </tr>\n",
       "    <tr>\n",
       "      <th>3</th>\n",
       "      <td>Africa Western and Central</td>\n",
       "      <td>AFW</td>\n",
       "      <td>GDP per capita (current US$)</td>\n",
       "      <td>NY.GDP.PCAP.CD</td>\n",
       "      <td>107.932233</td>\n",
       "      <td>113.081647</td>\n",
       "      <td>118.831107</td>\n",
       "      <td>123.442888</td>\n",
       "      <td>131.854402</td>\n",
       "      <td>138.526332</td>\n",
       "      <td>...</td>\n",
       "      <td>1965.118485</td>\n",
       "      <td>2157.481149</td>\n",
       "      <td>2212.853135</td>\n",
       "      <td>1894.310195</td>\n",
       "      <td>1673.835527</td>\n",
       "      <td>1613.473553</td>\n",
       "      <td>1704.139603</td>\n",
       "      <td>1777.918672</td>\n",
       "      <td>1710.073363</td>\n",
       "      <td>NaN</td>\n",
       "    </tr>\n",
       "    <tr>\n",
       "      <th>4</th>\n",
       "      <td>Angola</td>\n",
       "      <td>AGO</td>\n",
       "      <td>GDP per capita (current US$)</td>\n",
       "      <td>NY.GDP.PCAP.CD</td>\n",
       "      <td>NaN</td>\n",
       "      <td>NaN</td>\n",
       "      <td>NaN</td>\n",
       "      <td>NaN</td>\n",
       "      <td>NaN</td>\n",
       "      <td>NaN</td>\n",
       "      <td>...</td>\n",
       "      <td>5100.097027</td>\n",
       "      <td>5254.881126</td>\n",
       "      <td>5408.411700</td>\n",
       "      <td>4166.979833</td>\n",
       "      <td>3506.073128</td>\n",
       "      <td>4095.810057</td>\n",
       "      <td>3289.643995</td>\n",
       "      <td>2809.626088</td>\n",
       "      <td>1776.166868</td>\n",
       "      <td>NaN</td>\n",
       "    </tr>\n",
       "  </tbody>\n",
       "</table>\n",
       "<p>5 rows × 66 columns</p>\n",
       "</div>"
      ],
      "text/plain": [
       "                  Country Name Country Code                Indicator Name  \\\n",
       "0                        Aruba          ABW  GDP per capita (current US$)   \n",
       "1  Africa Eastern and Southern          AFE  GDP per capita (current US$)   \n",
       "2                  Afghanistan          AFG  GDP per capita (current US$)   \n",
       "3   Africa Western and Central          AFW  GDP per capita (current US$)   \n",
       "4                       Angola          AGO  GDP per capita (current US$)   \n",
       "\n",
       "   Indicator Code        1960        1961        1962        1963        1964  \\\n",
       "0  NY.GDP.PCAP.CD         NaN         NaN         NaN         NaN         NaN   \n",
       "1  NY.GDP.PCAP.CD  147.612227  147.014904  156.189192  182.243917  162.347592   \n",
       "2  NY.GDP.PCAP.CD   59.773234   59.860900   58.458009   78.706429   82.095307   \n",
       "3  NY.GDP.PCAP.CD  107.932233  113.081647  118.831107  123.442888  131.854402   \n",
       "4  NY.GDP.PCAP.CD         NaN         NaN         NaN         NaN         NaN   \n",
       "\n",
       "         1965  ...          2012          2013          2014          2015  \\\n",
       "0         NaN  ...  24712.493263  26441.619936  26893.011506  28396.908423   \n",
       "1  180.214908  ...   1736.166560   1713.899299   1703.596298   1549.037940   \n",
       "2  101.108325  ...    638.845852    624.315455    614.223342    556.007221   \n",
       "3  138.526332  ...   1965.118485   2157.481149   2212.853135   1894.310195   \n",
       "4         NaN  ...   5100.097027   5254.881126   5408.411700   4166.979833   \n",
       "\n",
       "           2016          2017          2018         2019         2020  \\\n",
       "0  28452.170615  29350.805019  30253.279358          NaN          NaN   \n",
       "1   1431.778723   1573.063386   1574.978648  1530.059177  1359.618224   \n",
       "2    512.012778    516.679862    485.668419   494.179350   516.747871   \n",
       "3   1673.835527   1613.473553   1704.139603  1777.918672  1710.073363   \n",
       "4   3506.073128   4095.810057   3289.643995  2809.626088  1776.166868   \n",
       "\n",
       "   Unnamed: 65  \n",
       "0          NaN  \n",
       "1          NaN  \n",
       "2          NaN  \n",
       "3          NaN  \n",
       "4          NaN  \n",
       "\n",
       "[5 rows x 66 columns]"
      ]
     },
     "execution_count": 17,
     "metadata": {},
     "output_type": "execute_result"
    }
   ],
   "source": [
    "df = pd.read_csv(\"dados/WorldBank/API_NY.GDP.PCAP.CD_DS2_en_csv_v2_3731360.csv\", skiprows=3)\n",
    "df.head()"
   ]
  },
  {
   "cell_type": "code",
   "execution_count": 20,
   "metadata": {},
   "outputs": [
    {
     "ename": "KeyError",
     "evalue": "\"None of ['Country Name'] are in the columns\"",
     "output_type": "error",
     "traceback": [
      "\u001b[1;31m---------------------------------------------------------------------------\u001b[0m",
      "\u001b[1;31mKeyError\u001b[0m                                  Traceback (most recent call last)",
      "\u001b[1;32m~\\AppData\\Local\\Temp/ipykernel_12436/442194531.py\u001b[0m in \u001b[0;36m<module>\u001b[1;34m\u001b[0m\n\u001b[0;32m      1\u001b[0m \u001b[1;31m# Resolva seu exercício aqui\u001b[0m\u001b[1;33m\u001b[0m\u001b[1;33m\u001b[0m\u001b[1;33m\u001b[0m\u001b[0m\n\u001b[1;32m----> 2\u001b[1;33m \u001b[0mdf\u001b[0m \u001b[1;33m=\u001b[0m \u001b[0mdf\u001b[0m\u001b[1;33m.\u001b[0m\u001b[0mset_index\u001b[0m\u001b[1;33m(\u001b[0m\u001b[1;34m'Country Name'\u001b[0m\u001b[1;33m)\u001b[0m\u001b[1;33m\u001b[0m\u001b[1;33m\u001b[0m\u001b[0m\n\u001b[0m\u001b[0;32m      3\u001b[0m \u001b[0mdf\u001b[0m\u001b[1;33m.\u001b[0m\u001b[0mloc\u001b[0m\u001b[1;33m[\u001b[0m\u001b[1;34m'Brazil'\u001b[0m\u001b[1;33m]\u001b[0m\u001b[1;33m\u001b[0m\u001b[1;33m\u001b[0m\u001b[0m\n\u001b[0;32m      4\u001b[0m \u001b[0mdf\u001b[0m\u001b[1;33m.\u001b[0m\u001b[0mloc\u001b[0m\u001b[1;33m[\u001b[0m\u001b[1;34m'Argentina'\u001b[0m\u001b[1;33m]\u001b[0m\u001b[1;33m\u001b[0m\u001b[1;33m\u001b[0m\u001b[0m\n\u001b[0;32m      5\u001b[0m \u001b[0mdf\u001b[0m\u001b[1;33m.\u001b[0m\u001b[0mloc\u001b[0m\u001b[1;33m[\u001b[0m\u001b[1;34m'Uruguay'\u001b[0m\u001b[1;33m]\u001b[0m\u001b[1;33m\u001b[0m\u001b[1;33m\u001b[0m\u001b[0m\n",
      "\u001b[1;32mc:\\Users\\tiago\\AppData\\Local\\Continuum\\anaconda3\\lib\\site-packages\\pandas\\util\\_decorators.py\u001b[0m in \u001b[0;36mwrapper\u001b[1;34m(*args, **kwargs)\u001b[0m\n\u001b[0;32m    309\u001b[0m                     \u001b[0mstacklevel\u001b[0m\u001b[1;33m=\u001b[0m\u001b[0mstacklevel\u001b[0m\u001b[1;33m,\u001b[0m\u001b[1;33m\u001b[0m\u001b[1;33m\u001b[0m\u001b[0m\n\u001b[0;32m    310\u001b[0m                 )\n\u001b[1;32m--> 311\u001b[1;33m             \u001b[1;32mreturn\u001b[0m \u001b[0mfunc\u001b[0m\u001b[1;33m(\u001b[0m\u001b[1;33m*\u001b[0m\u001b[0margs\u001b[0m\u001b[1;33m,\u001b[0m \u001b[1;33m**\u001b[0m\u001b[0mkwargs\u001b[0m\u001b[1;33m)\u001b[0m\u001b[1;33m\u001b[0m\u001b[1;33m\u001b[0m\u001b[0m\n\u001b[0m\u001b[0;32m    312\u001b[0m \u001b[1;33m\u001b[0m\u001b[0m\n\u001b[0;32m    313\u001b[0m         \u001b[1;32mreturn\u001b[0m \u001b[0mwrapper\u001b[0m\u001b[1;33m\u001b[0m\u001b[1;33m\u001b[0m\u001b[0m\n",
      "\u001b[1;32mc:\\Users\\tiago\\AppData\\Local\\Continuum\\anaconda3\\lib\\site-packages\\pandas\\core\\frame.py\u001b[0m in \u001b[0;36mset_index\u001b[1;34m(self, keys, drop, append, inplace, verify_integrity)\u001b[0m\n\u001b[0;32m   5449\u001b[0m \u001b[1;33m\u001b[0m\u001b[0m\n\u001b[0;32m   5450\u001b[0m         \u001b[1;32mif\u001b[0m \u001b[0mmissing\u001b[0m\u001b[1;33m:\u001b[0m\u001b[1;33m\u001b[0m\u001b[1;33m\u001b[0m\u001b[0m\n\u001b[1;32m-> 5451\u001b[1;33m             \u001b[1;32mraise\u001b[0m \u001b[0mKeyError\u001b[0m\u001b[1;33m(\u001b[0m\u001b[1;34mf\"None of {missing} are in the columns\"\u001b[0m\u001b[1;33m)\u001b[0m\u001b[1;33m\u001b[0m\u001b[1;33m\u001b[0m\u001b[0m\n\u001b[0m\u001b[0;32m   5452\u001b[0m \u001b[1;33m\u001b[0m\u001b[0m\n\u001b[0;32m   5453\u001b[0m         \u001b[1;32mif\u001b[0m \u001b[0minplace\u001b[0m\u001b[1;33m:\u001b[0m\u001b[1;33m\u001b[0m\u001b[1;33m\u001b[0m\u001b[0m\n",
      "\u001b[1;31mKeyError\u001b[0m: \"None of ['Country Name'] are in the columns\""
     ]
    }
   ],
   "source": [
    "# Resolva seu exercício aqui\n",
    "df = df.set_index('Country Name')\n",
    "df.loc['Brazil']\n",
    "df.loc['Argentina']\n",
    "df.loc['Uruguay']\n",
    "df.loc['Paraguay']\n",
    "\n",
    "df.loc[ ['Brazil', 'Argentina', 'Uruguay', 'Paraguay']]"
   ]
  },
  {
   "cell_type": "markdown",
   "metadata": {},
   "source": [
    "# Exercício 2\n",
    "*Objetivo: usar scatter plots para evidenciar como variáveis se relacionam*\n",
    "\n",
    "Um *scatterplot*, o *gráfico de espalhamento*, mostra pontos de duas séries numéricas alinhadas (isto é, que se referem ao mesmo \"indivíduo\"). Veja este exemplo:"
   ]
  },
  {
   "cell_type": "code",
   "execution_count": 7,
   "metadata": {},
   "outputs": [
    {
     "data": {
      "text/html": [
       "<div>\n",
       "<style scoped>\n",
       "    .dataframe tbody tr th:only-of-type {\n",
       "        vertical-align: middle;\n",
       "    }\n",
       "\n",
       "    .dataframe tbody tr th {\n",
       "        vertical-align: top;\n",
       "    }\n",
       "\n",
       "    .dataframe thead th {\n",
       "        text-align: right;\n",
       "    }\n",
       "</style>\n",
       "<table border=\"1\" class=\"dataframe\">\n",
       "  <thead>\n",
       "    <tr style=\"text-align: right;\">\n",
       "      <th></th>\n",
       "      <th>Altura</th>\n",
       "      <th>Relevância para a história</th>\n",
       "      <th>Vitórias sobre o Balrog</th>\n",
       "    </tr>\n",
       "    <tr>\n",
       "      <th>Nome</th>\n",
       "      <th></th>\n",
       "      <th></th>\n",
       "      <th></th>\n",
       "    </tr>\n",
       "  </thead>\n",
       "  <tbody>\n",
       "    <tr>\n",
       "      <th>Bilbo</th>\n",
       "      <td>0.90</td>\n",
       "      <td>10</td>\n",
       "      <td>0</td>\n",
       "    </tr>\n",
       "    <tr>\n",
       "      <th>Frodo</th>\n",
       "      <td>0.93</td>\n",
       "      <td>10</td>\n",
       "      <td>0</td>\n",
       "    </tr>\n",
       "    <tr>\n",
       "      <th>Gandalf</th>\n",
       "      <td>1.60</td>\n",
       "      <td>7</td>\n",
       "      <td>1</td>\n",
       "    </tr>\n",
       "    <tr>\n",
       "      <th>Aragorn</th>\n",
       "      <td>1.80</td>\n",
       "      <td>5</td>\n",
       "      <td>0</td>\n",
       "    </tr>\n",
       "    <tr>\n",
       "      <th>Smeagol</th>\n",
       "      <td>0.80</td>\n",
       "      <td>10</td>\n",
       "      <td>0</td>\n",
       "    </tr>\n",
       "  </tbody>\n",
       "</table>\n",
       "</div>"
      ],
      "text/plain": [
       "         Altura  Relevância para a história  Vitórias sobre o Balrog\n",
       "Nome                                                                \n",
       "Bilbo      0.90                          10                        0\n",
       "Frodo      0.93                          10                        0\n",
       "Gandalf    1.60                           7                        1\n",
       "Aragorn    1.80                           5                        0\n",
       "Smeagol    0.80                          10                        0"
      ]
     },
     "execution_count": 7,
     "metadata": {},
     "output_type": "execute_result"
    }
   ],
   "source": [
    "dados = {'Nome': ['Bilbo', 'Frodo', 'Gandalf', 'Aragorn', 'Smeagol'],\n",
    "        'Altura': [0.9, 0.93, 1.6, 1.8, 0.8, ],\n",
    "        'Relevância para a história': [10, 10, 7, 5, 10],\n",
    "        'Vitórias sobre o Balrog': [0, 0, 1, 0, 0]}\n",
    "\n",
    "sda2 = pd.DataFrame(dados)\n",
    "sda2 = sda2.set_index('Nome')\n",
    "sda2.head()"
   ]
  },
  {
   "cell_type": "code",
   "execution_count": 8,
   "metadata": {},
   "outputs": [
    {
     "data": {
      "image/png": "[encoded data removed]",
      "text/plain": [
       "<Figure size 300x300 with 1 Axes>"
      ]
     },
     "metadata": {},
     "output_type": "display_data"
    }
   ],
   "source": [
    "plt.figure(figsize=(3,3))\n",
    "sns.scatterplot(data=sda2, x='Altura', y='Relevância para a história')\n",
    "plt.show()"
   ]
  },
  {
   "cell_type": "markdown",
   "metadata": {},
   "source": [
    "Neste caso, podemos visualizar o fato de que personagens mais altas tendem a ter menor relevância para a história.\n",
    "\n",
    "---\n",
    "\n",
    "Usando um *scatterplot*, use dados do Banco Mundial para discutir a seguinte afirmação:\n",
    "\n",
    "*Os países que são mais ricos hoje são os mesmos países que já eram os mais ricos há muitas décadas*"
   ]
  },
  {
   "cell_type": "code",
   "execution_count": 9,
   "metadata": {},
   "outputs": [],
   "source": [
    "# Resolva seu exercício aqui"
   ]
  },
  {
   "cell_type": "code",
   "execution_count": null,
   "metadata": {},
   "outputs": [],
   "source": []
  },
  {
   "cell_type": "markdown",
   "metadata": {},
   "source": [
    "# Exercício 3\n",
    "*Objetivo: explica as consequências de usar `inner join` para cruzar dados de diferentes dataframes*\n",
    "\n",
    "É muito comum que tenhamos diferentes dataframes que trazem dados sobre os mesmos elementos. Por exemplo, os dataframes `sda1` e `sda2` deste notebook, até o momento, trazem dados diferentes sobre as mesmas personagens. Analisando o código abaixo, responda:\n",
    "\n",
    "1. O que o método `concat` faz?\n",
    "1. Qual é a importância da coluna `index` para o método `concat`?\n",
    "1. O que `concat` faz com os índices que não coincidem entre os dois dataframes?\n",
    "1. Troque o parâmetro `join='inner'` para `join='outer'`. Qual é a diferença no resultado?"
   ]
  },
  {
   "cell_type": "code",
   "execution_count": 10,
   "metadata": {},
   "outputs": [
    {
     "data": {
      "text/html": [
       "<div>\n",
       "<style scoped>\n",
       "    .dataframe tbody tr th:only-of-type {\n",
       "        vertical-align: middle;\n",
       "    }\n",
       "\n",
       "    .dataframe tbody tr th {\n",
       "        vertical-align: top;\n",
       "    }\n",
       "\n",
       "    .dataframe thead th {\n",
       "        text-align: right;\n",
       "    }\n",
       "</style>\n",
       "<table border=\"1\" class=\"dataframe\">\n",
       "  <thead>\n",
       "    <tr style=\"text-align: right;\">\n",
       "      <th></th>\n",
       "      <th>Altura</th>\n",
       "      <th>Magia</th>\n",
       "      <th>Anel</th>\n",
       "      <th>Altura</th>\n",
       "      <th>Relevância para a história</th>\n",
       "      <th>Vitórias sobre o Balrog</th>\n",
       "    </tr>\n",
       "    <tr>\n",
       "      <th>Nome</th>\n",
       "      <th></th>\n",
       "      <th></th>\n",
       "      <th></th>\n",
       "      <th></th>\n",
       "      <th></th>\n",
       "      <th></th>\n",
       "    </tr>\n",
       "  </thead>\n",
       "  <tbody>\n",
       "    <tr>\n",
       "      <th>Bilbo</th>\n",
       "      <td>Baixo</td>\n",
       "      <td>Não</td>\n",
       "      <td>Sim</td>\n",
       "      <td>0.90</td>\n",
       "      <td>10</td>\n",
       "      <td>0</td>\n",
       "    </tr>\n",
       "    <tr>\n",
       "      <th>Frodo</th>\n",
       "      <td>Baixo</td>\n",
       "      <td>Não</td>\n",
       "      <td>Sim</td>\n",
       "      <td>0.93</td>\n",
       "      <td>10</td>\n",
       "      <td>0</td>\n",
       "    </tr>\n",
       "    <tr>\n",
       "      <th>Gandalf</th>\n",
       "      <td>Alto</td>\n",
       "      <td>Sim</td>\n",
       "      <td>Não</td>\n",
       "      <td>1.60</td>\n",
       "      <td>7</td>\n",
       "      <td>1</td>\n",
       "    </tr>\n",
       "    <tr>\n",
       "      <th>Aragorn</th>\n",
       "      <td>Alto</td>\n",
       "      <td>Não</td>\n",
       "      <td>Não</td>\n",
       "      <td>1.80</td>\n",
       "      <td>5</td>\n",
       "      <td>0</td>\n",
       "    </tr>\n",
       "  </tbody>\n",
       "</table>\n",
       "</div>"
      ],
      "text/plain": [
       "         Altura Magia Anel  Altura  Relevância para a história  \\\n",
       "Nome                                                             \n",
       "Bilbo     Baixo   Não  Sim    0.90                          10   \n",
       "Frodo     Baixo   Não  Sim    0.93                          10   \n",
       "Gandalf    Alto   Sim  Não    1.60                           7   \n",
       "Aragorn    Alto   Não  Não    1.80                           5   \n",
       "\n",
       "         Vitórias sobre o Balrog  \n",
       "Nome                              \n",
       "Bilbo                          0  \n",
       "Frodo                          0  \n",
       "Gandalf                        1  \n",
       "Aragorn                        0  "
      ]
     },
     "execution_count": 10,
     "metadata": {},
     "output_type": "execute_result"
    }
   ],
   "source": [
    "sda_ = pd.concat((sda1, sda2), join='inner', axis=1)\n",
    "sda_.head()\n"
   ]
  },
  {
   "cell_type": "markdown",
   "metadata": {},
   "source": [
    "# Exercício 4\n",
    "*Objetivo: usar dados de múltiplas tabelas para construir uma hipótese*\n",
    "\n",
    "O desmatamento é um problema ligado ao desenvolvimento sustentável de países. É comum ouvirmos dizer que os países mais ricos do mundo já devastaram suas próprias florestas e, portanto, o desmatamento é um caminho inevitável para o progresso de um país.\n",
    "\n",
    "Os dataframes abaixo carregam dados do Banco Mundial referentes ao PIB per capita e à porcentagem de área coberta por florestas de cada país.\n",
    "\n",
    "Use esses dados para gerar uma figura que responda à pergunta:\n",
    "\n",
    "*Quanto mais rico é um país, menor é sua área coberta por florestas*"
   ]
  },
  {
   "cell_type": "code",
   "execution_count": 51,
   "metadata": {},
   "outputs": [
    {
     "data": {
      "image/png": "[encoded data removed]",
      "text/plain": [
       "<Figure size 300x300 with 1 Axes>"
      ]
     },
     "metadata": {},
     "output_type": "display_data"
    },
    {
     "data": {
      "text/html": [
       "<div>\n",
       "<style scoped>\n",
       "    .dataframe tbody tr th:only-of-type {\n",
       "        vertical-align: middle;\n",
       "    }\n",
       "\n",
       "    .dataframe tbody tr th {\n",
       "        vertical-align: top;\n",
       "    }\n",
       "\n",
       "    .dataframe thead th {\n",
       "        text-align: right;\n",
       "    }\n",
       "</style>\n",
       "<table border=\"1\" class=\"dataframe\">\n",
       "  <thead>\n",
       "    <tr style=\"text-align: right;\">\n",
       "      <th></th>\n",
       "      <th>Área florestal</th>\n",
       "      <th>PIB per capita</th>\n",
       "    </tr>\n",
       "  </thead>\n",
       "  <tbody>\n",
       "    <tr>\n",
       "      <th>Área florestal</th>\n",
       "      <td>1.000000</td>\n",
       "      <td>0.001981</td>\n",
       "    </tr>\n",
       "    <tr>\n",
       "      <th>PIB per capita</th>\n",
       "      <td>0.001981</td>\n",
       "      <td>1.000000</td>\n",
       "    </tr>\n",
       "  </tbody>\n",
       "</table>\n",
       "</div>"
      ],
      "text/plain": [
       "                Área florestal  PIB per capita\n",
       "Área florestal        1.000000        0.001981\n",
       "PIB per capita        0.001981        1.000000"
      ]
     },
     "execution_count": 51,
     "metadata": {},
     "output_type": "execute_result"
    }
   ],
   "source": [
    "df_area_florestal = pd.read_csv('dados/WorldBank/API_AG.LND.FRST.ZS_DS2_en_csv_v2_3731376.csv', skiprows=3)\n",
    "df_pib_per_capita = pd.read_csv('dados/WorldBank/API_NY.GDP.PCAP.CD_DS2_en_csv_v2_3731360.csv', skiprows=3)\n",
    "\n",
    "df_area_florestal = df_area_florestal.set_index('Country Name')\n",
    "df_pib_per_capita = df_pib_per_capita.set_index('Country Name')\n",
    "\n",
    "df_area_florestal.rename(columns={'2020': 'Área florestal'}, inplace=True)\n",
    "df_pib_per_capita.rename(columns={'2020': 'PIB per capita'}, inplace=True)\n",
    "\n",
    "df_area_florestal = df_area_florestal['Área florestal']\n",
    "df_pib_per_capita = df_pib_per_capita['PIB per capita']\n",
    "\n",
    "df = pd.concat( (df_area_florestal, df_pib_per_capita), axis=1, join='inner')\n",
    "\n",
    "plt.figure(figsize=(3,3))\n",
    "sns.scatterplot(data=df, x='Área florestal', y='PIB per capita')\n",
    "plt.show()\n",
    "\n",
    "df.corr()"
   ]
  },
  {
   "cell_type": "markdown",
   "metadata": {},
   "source": [
    "# Exercício 5\n",
    "*Objetivo: explicar covariância e correlação em termos da semelhança com uma reta para posteriormente interpretá-las*\n",
    "\n",
    "Quando temos duas séries ($x$ e $y$) de números, podemos nos fazer a seguinte pergunta:\n",
    "\n",
    "*\"O aumento de $x$ está ligado ao aumento de $y$?\"*\n",
    "\n",
    "As visualizações são formas importantes para entender essa relação entre os aumentos dos valores, mas também podemos usar medidas numéricas que indicam objetivamente qual é essa relação.\n",
    "\n",
    "* Covariância: $c = \\sum_{i=1}^N \\frac{ (x_i-\\bar{x}) (y_i-\\bar{y}) }{N}  $, onde $N$ é o número de elementos nas séries $x$ e $y$ e $\\bar{x}$ representa a média da série $x$.\n",
    "\n",
    "* Correlação: $r = \\frac{c}{\\sigma(x) \\sigma(y)}$, onde $\\sigma(x)$ é o desvio padrão da série $x$ e $c$ é a covariância, calculada conforme acima.\n",
    "\n",
    "Covariância e correlação são medidas que indicam o quanto o scatterplot de $x$ por $y$ se parece com uma reta. O código abaixo demosntra seu uso.\n",
    "\n",
    "Anote o que acontece com (a) o **alinhamento entre os pontos**, (b) a **inclinação da reta que parece passar próxima aos pontos**, (c) a **covariância** calculada, e (d) a **correlação** calculada nas seguintes situações:\n",
    "\n",
    "\n",
    "1. Aumentamos `a`, deixando `n=0` e `b=0`\n",
    "1. Aumentamos `n`, deixando `a` fixo em um valor qualquer e `b=0`\n",
    "1. Aumentamos `a`, deixando `n=1` e `b=0`\n",
    "1. Mudamos o sinal de `a`, deixnado `n` e `b` fixos\n",
    "1. Mudamos o valor de `b`\n"
   ]
  },
  {
   "cell_type": "code",
   "execution_count": 46,
   "metadata": {},
   "outputs": [
    {
     "name": "stdout",
     "output_type": "stream",
     "text": [
      "Covariância: 0.0885047896709704\n",
      "Correlação: 0.9999999999999998\n"
     ]
    },
    {
     "data": {
      "image/png": "[encoded data removed]",
      "text/plain": [
       "<Figure size 700x300 with 1 Axes>"
      ]
     },
     "metadata": {},
     "output_type": "display_data"
    }
   ],
   "source": [
    "import numpy as np\n",
    "import matplotlib.pyplot as plt\n",
    "\n",
    "a = 1\n",
    "b = 10\n",
    "n = 0\n",
    "x = np.linspace(0,1,50)\n",
    "y = a * x + n * np.random.randn(len(x)) + b\n",
    "c = np.cov(x, y)[0,1]\n",
    "r = np.corrcoef(x, y)[0, 1]\n",
    "print(\"Covariância: \" + str(c))\n",
    "print(\"Correlação: \" + str(r))\n",
    "plt.figure( figsize=(7,3) )\n",
    "plt.scatter(x, y)\n",
    "plt.show()"
   ]
  },
  {
   "cell_type": "code",
   "execution_count": null,
   "metadata": {},
   "outputs": [],
   "source": []
  },
  {
   "cell_type": "markdown",
   "metadata": {},
   "source": [
    "# Exercício 6\n",
    "*Objetivo: explicar a limitação da correlação para ligações não-lineares*\n",
    "\n",
    "É comum pensarmos que, se há uma correlação próxima de 1 ou -1 entre duas grandezas, então elas estão ligadas. De forma semelhante, é comum pensar que, se a correlção é próxima a zero, então não existe nenhuma relação entre as duas grandezas.\n",
    "\n",
    "Analise o código abaixo e suas saídas, e responda, com base em exemplos ou contra-exemplos:\n",
    "\n",
    "1. Se a correlação entre duas variáveis é próxima a 1, então **existe** algum mapeamento ou função que permite calcular uma das grandezas com base na outra.\n",
    "1. Se a correlação entre duas variáveis é próxima a 0, então **não existe** algum mapeamento ou função que permite calcular uma das grandezas com base na outra.\n",
    "1. Se a correlação entre duas variáveis é próxima de zero, então a relação entre elas não pode ser determinada.\n",
    "1. Se a correlação entre $x$ e $y$ é próxima de 1, então $x$ *causa* a variável $y$."
   ]
  },
  {
   "cell_type": "code",
   "execution_count": 13,
   "metadata": {},
   "outputs": [
    {
     "name": "stdout",
     "output_type": "stream",
     "text": [
      "0.9999999999999998 -4.862244557122016e-17 0.6892715517511852 -1.3201981012691937e-16\n"
     ]
    },
    {
     "data": {
      "image/png": "[encoded data removed]",
      "text/plain": [
       "<Figure size 700x300 with 1 Axes>"
      ]
     },
     "metadata": {},
     "output_type": "display_data"
    }
   ],
   "source": [
    "x = np.linspace(-1,1,50)\n",
    "y1 = x\n",
    "y2 = x**2\n",
    "y3 = x**9\n",
    "y4 = np.cos(2*np.pi*x)\n",
    "\n",
    "r1 = np.corrcoef(x, y1)[0, 1]\n",
    "r2 = np.corrcoef(x, y2)[0, 1]\n",
    "r3 = np.corrcoef(x, y3)[0, 1]\n",
    "r4 = np.corrcoef(x, y4)[0, 1]\n",
    "print(r1, r2, r3, r4)\n",
    "\n",
    "plt.figure( figsize=(7,3) )\n",
    "plt.scatter(x, y1, label='$y=x$')\n",
    "plt.scatter(x, y2, label='$y=x^2$')\n",
    "plt.scatter(x, y3, label='$y=x^9$')\n",
    "plt.scatter(x, y4, label='$y=\\cos(2 \\pi x)$')\n",
    "plt.legend()\n",
    "plt.show()\n"
   ]
  },
  {
   "cell_type": "markdown",
   "metadata": {},
   "source": [
    "# Exercício 7\n",
    "*Objetivo: usar a correlação para sustentar argumentos sobre a ligação entre variáveis*\n",
    "\n",
    "Usando o coeficiente de correlação, calcule dados que sustentam as suas conclusões feitas no exercício 2 e no exercício 4. Dica: Use o método `corr` do Pandas!"
   ]
  },
  {
   "cell_type": "code",
   "execution_count": 14,
   "metadata": {},
   "outputs": [],
   "source": [
    "# Resolva o exercício 7 aqui"
   ]
  },
  {
   "cell_type": "code",
   "execution_count": null,
   "metadata": {},
   "outputs": [],
   "source": []
  },
  {
   "cell_type": "markdown",
   "metadata": {},
   "source": [
    "# Exercício 8\n",
    "*Objetivo: comparar correlações de diferentes séries para gerar hipóteses sobre diferentes comportamentos*\n",
    "\n",
    "Podemos argumentar que a análise feita no exercício 7 é incompleta porque considera apenas um ano. Talvez o que tenha acontecido é que os países que já eram cheios de florestas continuaram cheios de florestas e os que não tinham florestas continuaram assim, ou talvez os países ricos tenham simplesmente tido mais recursos para reflorestar seus territórios. Por isso, deveríamos analisar os dados históricos relacionando PIB *per capita* e taxa de florestamento para cada país.\n",
    "\n",
    "1. Faça uma figura que responda à pergunta: \"É necessário desmatar para promover o crescimento de um país?\"\n",
    "1. Usando as técnicas que aprendemos hoje, faça uma figura que evidencie a resposta à sua pergunta.\n",
    "2. Não esqueça de rotular eixos e colocar título na figura! No título, tanto a pergunta quanto a resposta devem ficar evidentes.\n",
    "3. Submeta sua figura no Blackboard."
   ]
  },
  {
   "cell_type": "code",
   "execution_count": 2,
   "metadata": {},
   "outputs": [],
   "source": [
    "df_area_florestal = pd.read_csv('dados/WorldBank/API_AG.LND.FRST.ZS_DS2_en_csv_v2_3731376.csv', skiprows=3).set_index('Country Name')\n",
    "df_pib_per_capita = pd.read_csv('dados/WorldBank/API_NY.GDP.PCAP.CD_DS2_en_csv_v2_3731360.csv', skiprows=3).set_index('Country Name')\n",
    "df_pib_per_capita"
   ]
  },
  {
   "cell_type": "code",
   "execution_count": 32,
   "metadata": {},
   "outputs": [
    {
     "data": {
      "text/html": [
       "<div>\n",
       "<style scoped>\n",
       "    .dataframe tbody tr th:only-of-type {\n",
       "        vertical-align: middle;\n",
       "    }\n",
       "\n",
       "    .dataframe tbody tr th {\n",
       "        vertical-align: top;\n",
       "    }\n",
       "\n",
       "    .dataframe thead th {\n",
       "        text-align: right;\n",
       "    }\n",
       "</style>\n",
       "<table border=\"1\" class=\"dataframe\">\n",
       "  <thead>\n",
       "    <tr style=\"text-align: right;\">\n",
       "      <th></th>\n",
       "      <th>area</th>\n",
       "      <th>pib</th>\n",
       "    </tr>\n",
       "  </thead>\n",
       "  <tbody>\n",
       "    <tr>\n",
       "      <th>area</th>\n",
       "      <td>1.00000</td>\n",
       "      <td>-0.84288</td>\n",
       "    </tr>\n",
       "    <tr>\n",
       "      <th>pib</th>\n",
       "      <td>-0.84288</td>\n",
       "      <td>1.00000</td>\n",
       "    </tr>\n",
       "  </tbody>\n",
       "</table>\n",
       "</div>"
      ],
      "text/plain": [
       "         area      pib\n",
       "area  1.00000 -0.84288\n",
       "pib  -0.84288  1.00000"
      ]
     },
     "execution_count": 32,
     "metadata": {},
     "output_type": "execute_result"
    }
   ],
   "source": [
    "import numpy as np\n",
    "c = [str(i) for i in range(1960, 2020)]\n",
    "df1 = df_area_florestal.loc['Brazil'][c]\n",
    "df2 = df_pib_per_capita.loc['Brazil'][c]\n",
    "\n",
    "df = pd.DataFrame()\n",
    "df['area'] = pd.to_numeric(df1)\n",
    "df['pib'] = pd.to_numeric(df2)\n",
    "df.corr()"
   ]
  },
  {
   "cell_type": "code",
   "execution_count": null,
   "metadata": {},
   "outputs": [],
   "source": []
  }
 ],
 "metadata": {
  "kernelspec": {
   "display_name": "Python 3.7.12",
   "language": "python",
   "name": "python3"
  },
  "language_info": {
   "codemirror_mode": {
    "name": "ipython",
    "version": 3
   },
   "file_extension": ".py",
   "mimetype": "text/x-python",
   "name": "python",
   "nbconvert_exporter": "python",
   "pygments_lexer": "ipython3",
   "version": "3.7.12"
  },
  "orig_nbformat": 4,
  "vscode": {
   "interpreter": {
    "hash": "48a163085726af4aa892ebfc5efd6be8ee4b935d9ea37781e4f79f4457b77d39"
   }
  }
 },
 "nbformat": 4,
 "nbformat_minor": 2
}
