{
 "cells": [
  {
   "cell_type": "code",
   "execution_count": 2,
   "metadata": {},
   "outputs": [],
   "source": [
    "import numpy as np\n",
    "import scipy.stats as st\n",
    "import matplotlib.pyplot as plt\n",
    "plt.style.use('default')"
   ]
  },
  {
   "cell_type": "markdown",
   "metadata": {},
   "source": [
    "## Questão 2:"
   ]
  },
  {
   "cell_type": "code",
   "execution_count": 3,
   "metadata": {},
   "outputs": [
    {
     "data": {
      "text/plain": [
       "(0.09516258196404048, 0.9983748542013806, 0.062109511801033856)"
      ]
     },
     "execution_count": 3,
     "metadata": {},
     "output_type": "execute_result"
    }
   ],
   "source": [
    "L = 1 / 10\n",
    "p1 =1 - st.poisson.pmf(0, L)\n",
    "\n",
    "p2 = (st.poisson.cdf(2, L ) - st.poisson.cdf(0, L )) / p1\n",
    "\n",
    "p3 = 1 - st.binom.cdf(2, 10, p1)\n",
    "\n",
    "p1, p2, p3"
   ]
  },
  {
   "cell_type": "markdown",
   "metadata": {},
   "source": [
    "## Questão 3:"
   ]
  },
  {
   "cell_type": "code",
   "execution_count": 4,
   "metadata": {},
   "outputs": [
    {
     "data": {
      "text/plain": [
       "38.63743955323351"
      ]
     },
     "execution_count": 4,
     "metadata": {},
     "output_type": "execute_result"
    }
   ],
   "source": [
    "scale = 225 ** 0.5\n",
    "mu = 97\n",
    "p1 = st.norm.cdf(76, loc=mu, scale=scale)\n",
    "\n",
    "# p (x >= 80 | x < 103) = p(x >= 80 | x < 103) / p(103)\n",
    "p2 = (st.norm.cdf(103, loc=mu, scale=scale) - st.norm.cdf(80, loc=mu, scale=scale)) / st.norm.cdf(103, loc=mu, scale=scale)\n",
    "\n",
    "p3 = st.norm.ppf(0.976, loc=mu, scale=scale)\n",
    "p4 = st.norm.ppf(1 - 0.938, loc=mu, scale=scale)\n",
    "\n",
    "p5 = mu - st.norm.ppf(0.01/2, loc=mu, scale=scale)\n",
    "\n",
    "p5"
   ]
  },
  {
   "cell_type": "markdown",
   "metadata": {},
   "source": [
    "## Questão 4:"
   ]
  },
  {
   "cell_type": "code",
   "execution_count": 26,
   "metadata": {},
   "outputs": [
    {
     "data": {
      "text/plain": [
       "1.0"
      ]
     },
     "execution_count": 26,
     "metadata": {},
     "output_type": "execute_result"
    }
   ],
   "source": [
    "# L = 33 / 100\n",
    "# p1 = st.poisson.pmf(2, L)\n",
    "# p2 = 1 - st.poisson.cdf(10, L)\n",
    "# scale = st.poisson.std(L) \n",
    "\n",
    "# st.norm.ppf(0.65, scale=scale, loc=L)\n",
    "\n",
    "L = 69 / 100\n",
    "\n",
    "st.poisson.pmf(0, L)\n",
    "\n",
    "1 - st.poisson.cdf(10, L)\n",
    "\n",
    "sig = st.norm.std(57)\n",
    "\n",
    "st.norm.ppf(0.76, loc=57, scale=sig)"
   ]
  },
  {
   "cell_type": "markdown",
   "metadata": {},
   "source": [
    "## Questão 8:\n"
   ]
  },
  {
   "cell_type": "code",
   "execution_count": 6,
   "metadata": {},
   "outputs": [
    {
     "data": {
      "text/plain": [
       "8.965792867038086"
      ]
     },
     "execution_count": 6,
     "metadata": {},
     "output_type": "execute_result"
    }
   ],
   "source": [
    "scale = 2 / 48 ** 0.5\n",
    "mu = 8.4\n",
    "\n",
    "st.norm.ppf(0.025, loc=mu, scale=scale)\n",
    "st.norm.ppf(0.975, loc=mu, scale=scale)"
   ]
  },
  {
   "cell_type": "markdown",
   "metadata": {},
   "source": [
    "## Questão 9:"
   ]
  },
  {
   "cell_type": "code",
   "execution_count": 7,
   "metadata": {},
   "outputs": [
    {
     "data": {
      "text/plain": [
       "0.0013161533087589533"
      ]
     },
     "execution_count": 7,
     "metadata": {},
     "output_type": "execute_result"
    }
   ],
   "source": [
    "m = np.array([108,  88,  93,  89,  97,  92,  96, 105, 107,  80]).mean()\n",
    "\n",
    "st.poisson.cdf(67, m)\n"
   ]
  },
  {
   "cell_type": "markdown",
   "metadata": {},
   "source": [
    "## Questão 10"
   ]
  },
  {
   "cell_type": "code",
   "execution_count": 8,
   "metadata": {},
   "outputs": [
    {
     "data": {
      "text/plain": [
       "TtestResult(statistic=-9.277392438821346, pvalue=1.9781394330470373e-16, df=148.0)"
      ]
     },
     "execution_count": 8,
     "metadata": {},
     "output_type": "execute_result"
    }
   ],
   "source": [
    "controle = np.array([34, 30, 26, 34, 25, 31, 26, 29, 26, 21, 33, 29, 26, 40, 20, 31, 35, 34, 35, 34, 33, 30, 36, 33, 37, 36, 35, 33, 33, 32, 32, 27, 28, 27, 26, 31, 24, 26, 23, 31, 39, 28, 38, 37, 25, 29, 35, 29, 42, 27, 41, 38, 33, 26, 26, 34, 35, 33, 31, 22, 34, 26, 25, 33, 37, 40, 32, 35, 20, 21, 33, 36, 28, 21, 44, 27, 29, 35])\n",
    "experimento = np.array([48, 40, 34, 42, 41, 45, 39, 39, 45, 42, 32, 36, 47, 32, 49, 35, 42, 32, 42, 54, 48, 35, 44, 35, 24, 48, 31, 36, 39, 48, 39, 32, 48, 38, 43, 40, 40, 43, 43, 29, 44, 33, 27, 38, 37, 46, 46, 34, 29, 49, 40, 40, 49, 44, 52, 30, 42, 27, 45, 44, 31, 37, 36, 35, 40, 40, 46, 50, 48, 42, 43, 49])\n",
    "\n",
    "st.ttest_ind(controle, experimento)"
   ]
  }
 ],
 "metadata": {
  "kernelspec": {
   "display_name": "Python 3",
   "language": "python",
   "name": "python3"
  },
  "language_info": {
   "codemirror_mode": {
    "name": "ipython",
    "version": 3
   },
   "file_extension": ".py",
   "mimetype": "text/x-python",
   "name": "python",
   "nbconvert_exporter": "python",
   "pygments_lexer": "ipython3",
   "version": "3.11.6"
  },
  "orig_nbformat": 4
 },
 "nbformat": 4,
 "nbformat_minor": 2
}
