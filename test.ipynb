{
 "cells": [
  {
   "cell_type": "code",
   "execution_count": 10,
   "metadata": {},
   "outputs": [
    {
     "name": "stdout",
     "output_type": "stream",
     "text": [
      "0.3593073593073593 0.8938648648648648\n"
     ]
    }
   ],
   "source": [
    "p_d = 0.4\n",
    "p_r_given_d = 0.83\n",
    "p_d_given_r = 0.924\n",
    "p_e = 1 - p_d\n",
    "p_n_r_given_d = 1 - p_r_given_d\n",
    "p_e_given_r = 1 - p_d_given_r\n",
    "\n",
    "p_r_and_d = p_r_given_d * p_d\n",
    "\n",
    "p_r = p_r_and_d / (1 - p_e_given_r)\n",
    "p_n_r = 1 - p_r\n",
    "\n",
    "p_n_r_and_d = p_n_r_given_d * p_d\n",
    "p_e_and_r = p_e_given_r * p_r\n",
    "p_e_and_n_r = 1 - (p_e_and_r + p_r_and_d + p_n_r_and_d)\n",
    "\n",
    "p_e_given_n_r = p_e_and_n_r / p_n_r\n",
    "\n",
    "print(p_r, p_e_given_n_r)"
   ]
  }
 ],
 "metadata": {
  "kernelspec": {
   "display_name": "Python 3",
   "language": "python",
   "name": "python3"
  },
  "language_info": {
   "codemirror_mode": {
    "name": "ipython",
    "version": 3
   },
   "file_extension": ".py",
   "mimetype": "text/x-python",
   "name": "python",
   "nbconvert_exporter": "python",
   "pygments_lexer": "ipython3",
   "version": "3.11.5"
  },
  "orig_nbformat": 4
 },
 "nbformat": 4,
 "nbformat_minor": 2
}
