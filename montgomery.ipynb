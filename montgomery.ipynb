{
 "cells": [
  {
   "cell_type": "code",
   "execution_count": 83,
   "metadata": {},
   "outputs": [],
   "source": [
    "import numpy as np\n",
    "import scipy.stats as st\n",
    "import matplotlib.pyplot as plt\n",
    "plt.style.use('default')"
   ]
  },
  {
   "cell_type": "markdown",
   "metadata": {},
   "source": [
    "## PG 68 - 3.6"
   ]
  },
  {
   "cell_type": "code",
   "execution_count": 108,
   "metadata": {},
   "outputs": [
    {
     "data": {
      "text/plain": [
       "0.3703517360973313"
      ]
     },
     "execution_count": 108,
     "metadata": {},
     "output_type": "execute_result"
    }
   ],
   "source": [
    "# ======================= 3-93\n",
    "p = 0.1\n",
    "n = 10\n",
    "\n",
    "a = st.binom.cdf(2, n, p)\n",
    "b = st.binom.cdf(8, n, p)\n",
    "c = st.binom.pmf(4, n, p)\n",
    "d = st.binom.cdf(7, n, p) - st.binom.cdf(4, n, p)\n",
    "\n",
    "# ======================= 3-97\n",
    "a = 0\n",
    "b = 10\n",
    "\n",
    "# ======================= 3-101\n",
    "p = 0.4\n",
    "n = 10\n",
    "\n",
    "st.binom.pmf(3, n, p)\n",
    "\n",
    "# ======================= 3-103\n",
    "p = 0.2\n",
    "\n",
    "st.binom.pmf(1, 5, p)\n",
    "st.binom.pmf(4, 20, p)\n",
    "1 - st.binom.cdf(4, 20, p)"
   ]
  },
  {
   "cell_type": "markdown",
   "metadata": {},
   "source": [
    "## PG 110 - 4.8"
   ]
  },
  {
   "cell_type": "code",
   "execution_count": 82,
   "metadata": {},
   "outputs": [
    {
     "data": {
      "text/plain": [
       "nan"
      ]
     },
     "execution_count": 82,
     "metadata": {},
     "output_type": "execute_result"
    }
   ],
   "source": [
    "# ================= 4-113\n",
    "a = 1 - st.expon.cdf(10, scale=10)\n",
    "b = 1 - st.expon.cdf(20, scale=10)\n",
    "c = st.expon.cdf(30, scale=10)\n",
    "d = st.expon.ppf(0.95, scale=10)\n",
    "\n",
    "# ================= 4-115\n",
    "L = 2\n",
    "mu = 1 / L\n",
    "\n",
    "a = 1 - st.expon.cdf(0.5, scale=mu)\n",
    "b = st.expon.cdf(1/6, scale=mu)\n",
    "c = st.expon.cdf(2, scale=mu) - st.expon.cdf(1, scale=mu)\n",
    "\n",
    "# ================= 4-117\n",
    "\n",
    "mu = 15\n",
    "\n",
    "a = 1 - st.expon.cdf(30, scale=15)\n",
    "b = st.expon.cdf(10, scale=15)\n",
    "c = st.expon.cdf(10, scale=15) - st.expon.cdf(5, scale=15)\n",
    "d = st.expon.ppf(0.9, scale=15)\n",
    "\n",
    "# ================= 4-119\n",
    "mu = 0.0003\n",
    "a = 1 - st.expon.cdf(10000, scale=1/mu)  \n",
    "b = st.expon.cdf(7000, scale=1/mu)\n",
    "\n",
    "# ================= 4-121\n",
    "mu = 10\n",
    "\n",
    "a = 1 - st.expon.cdf(60, scale=mu)\n",
    "# p (x < 10 | x > 60)\n",
    "b = None\n",
    "c = st.expon.ppf(0.1, scale=mu)\n",
    "    \n"
   ]
  },
  {
   "cell_type": "markdown",
   "metadata": {},
   "source": []
  },
  {
   "cell_type": "code",
   "execution_count": null,
   "metadata": {},
   "outputs": [],
   "source": []
  }
 ],
 "metadata": {
  "kernelspec": {
   "display_name": "Python 3",
   "language": "python",
   "name": "python3"
  },
  "language_info": {
   "codemirror_mode": {
    "name": "ipython",
    "version": 3
   },
   "file_extension": ".py",
   "mimetype": "text/x-python",
   "name": "python",
   "nbconvert_exporter": "python",
   "pygments_lexer": "ipython3",
   "version": "3.11.6"
  }
 },
 "nbformat": 4,
 "nbformat_minor": 2
}
