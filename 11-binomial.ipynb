{
 "cells": [
  {
   "cell_type": "markdown",
   "metadata": {},
   "source": [
    "# 11 - Modelos e Distribuições Binomiais\n",
    "**Objetivo da aula**: ao fim desta aula, o aluno será capaz de aplicar distribuições binomiais para avaliar situações reais."
   ]
  },
  {
   "cell_type": "markdown",
   "metadata": {},
   "source": [
    "## Texto introdutório\n",
    "\n",
    "Já sabemos que podemos jogar uma moeda para cima e avaliar sua probabilidade de \"dar cara\". Podemos enviesar nossa moeda e chegar a uma probabilidade:\n",
    "\n",
    "$$\n",
    "P(H) = p,\n",
    "$$\n",
    "\n",
    "e, portanto, a probabilidade de dar \"coroa\" é:\n",
    "\n",
    "$$\n",
    "P(T) = 1-p = q.\n",
    "$$\n",
    "\n",
    "Uma propriedade interessante de moedas enviesadas é que elas se comportam de uma maneira parecida com alguns outros fenômenos - estes, possivelmente muito mais relevantes que uma moeda literal. Por exemplo, quando temos clientes em um e-commerce, cada um deles tem uma probabilidade $p$ de efetuar uma compra. Tal qual as moedas, raramente a compra de um cliente influencia diretamente o outro (ao menos no curto prazo), e também, se o site não for modificado e se não houver ações de marketing, essa probabilidade de compra $p$ deve ficar constante.\n",
    "\n",
    "Assim como é difícil prever o comportamento de uma única jogada de moeda, também é difícil prever o comportamento de um único cliente. Porém, podemos tirar conclusões interessantes sobre o comportamento de um conjunto de jogadas de moeda, ou de um conjunto de vários clientes. Em especial, gostaríamos de saber: se meu website receber 1000 visitas, quantas compras devem ser esperadas - ou no caso das moedas, se jogarmos 1000 moedas, quantas vezes devo ter o resultado \"cara\"?\n",
    "\n",
    "Pode ser mais fácil pensarmos num exemplo:\n",
    "\n",
    "Num caso bastante pequeno, por exemplo, com 3 jogadas de moedas (ou 3 clientes), podemos ter os resultados:\n",
    "| Jogada 1 | Jogada 2 | Jogada 3 |\n",
    "| --- | --- | --- |\n",
    "| H | H | H |\n",
    "| H | H | T |\n",
    "| H | T | H |\n",
    "| T | H | H |\n",
    "| H | T | T |\n",
    "| T | H | T |\n",
    "| T | T | H |\n",
    "| T | T | T |\n",
    "\n",
    "Se $P(H)=p$, então a probabilidade de encontrarmos o resultado HHH é igual a $P(HHH)=P(H)P(H)P(H)=p^3$. Pelo mesmo raciocínio, a probabilidade de HHT é $P(HHT)=P(H)P(H)P(T)=p^2q$.\n",
    "\n",
    "Agora, veja: para o primeiro caso ($P(HHH)$), temos exatamente a probabilidade de jogar 3 moedas e encontrar 3 caras. Para o segundo, temos a probabilidade de jogar 3 moedas e encontrar 2 caras e uma coroa, *exatamente nesta ordem*. O nosso problema de contar \"caras\" (ou \"compras\"), porém, não depende da ordem: a pergunta se refere a \"quantas caras (ou compras) eu devo esperar\", e não à ordem específica delas.\n",
    "\n",
    "De acordo com nossa tabela, há 3 possibilidades em que há duas caras e uma coroa. Cada uma delas tem probabilidade igual, então, a probabilidade de encontrar duas caras e uma coroa é igual a $3p^2q$. Podemos, na verdade, pensar em cada uma dessas possibilidades como um dos *anagramas* de HHT.\n",
    "\n",
    "### Como surge a distribuição binomial\n",
    "\n",
    "Então temos duas ideias. A primeira é que a probabilidade de encontrar $k$ caras em $n$ jogadas em *uma ordem específica* é $p^k q^{n-k}$. A segunda é que o total de possibilidades em que há o mesmo número de caras e coroas é o conjunto de todos os anagramas da sequência de Hs e Ts que deu origem à probabilidade anterior, isto é, há $\\frac{n!}{k!(n-k)!}$ possibilidades para o mesmo número de caras.\n",
    "\n",
    "Então, se $X$ é o número de caras que saem em $n$ jogadas:\n",
    "\n",
    "$$\n",
    "P(X=k)=\n",
    "\\frac{n!}{k!(n-k)!} p^k (q)^{(n-k)}\n",
    "$$\n",
    "\n",
    "Mais formalmente, dizemos que uma variável aleatória $X$ segue uma distribuição binomial utilizando a seguinte notação: $X$~$Bin(n,p)$. Essa notação pode ser lida como: $X$ segue uma distribuição binomial com $n$ tentativas e $p$ como probabilidade de sucesso em cada evento independente. A distribuição binomial modela a número de sucessos (o evento de interesse) em uma determinada quantidade de tentativas. \n",
    "\n",
    "### Condições da distribuição binomial\n",
    "\n",
    "Para que um experimento possa ser modelado por uma distribuição binomial, ele precisa ter as seguintes propriedades:\n",
    "\n",
    "- ser uma contagem de $n$ repetições (ou tentativas, ou ensaios) idênticas;\n",
    "- cada repetição tem apenas 2 resultados possíveis: um é denominado sucesso (o resultado de interesse, que não necessariamente é positivo) e o outro, fracasso;\n",
    "- a probabilidade de sucesso para cada ensaio é denominada $p$ e será constante em cada repetição. Consequentemente, a probabilidade de fracasso $(1-p)$ também não varia de tentativa para tentativa;\n",
    "- as tentativas são independentes.\n",
    "\n",
    "### Esperança e Variância\n",
    "\n",
    "Se $X$~$Bin(n,p)$, o valor esperado $E(X)$ e a variância $Var(X)$ são dados por:\n",
    "\n",
    "$\\qquad\\qquad E(X) = np$\n",
    "\n",
    "$\\qquad\\qquad Var(X) = np(1-p)$"
   ]
  },
  {
   "cell_type": "code",
   "execution_count": 2,
   "metadata": {},
   "outputs": [],
   "source": [
    "import pandas as pd\n",
    "import matplotlib.pyplot as plt\n",
    "import numpy as np\n",
    "\n",
    "from scipy import stats #importa apenas as funções de estatísticas da biblioteca SciPy."
   ]
  },
  {
   "cell_type": "markdown",
   "metadata": {},
   "source": [
    "# Exemplo: jogando uma moeda várias vezes\n",
    "\n",
    "Tenho uma moeda que tem probabilidade $p$ de dar cara. Se eu jogo a moeda $n$ vezes, quantas caras vou conseguir?"
   ]
  },
  {
   "cell_type": "code",
   "execution_count": 3,
   "metadata": {},
   "outputs": [],
   "source": [
    "def varias_moedas(n, p):\n",
    "    caras = 0\n",
    "    for _ in range(n):\n",
    "        deu_cara = np.random.random() < p\n",
    "        if deu_cara:\n",
    "            caras = caras + 1\n",
    "    return caras"
   ]
  },
  {
   "cell_type": "code",
   "execution_count": 4,
   "metadata": {},
   "outputs": [
    {
     "name": "stdout",
     "output_type": "stream",
     "text": [
      "51\n"
     ]
    }
   ],
   "source": [
    "print(varias_moedas(100, 0.5))"
   ]
  },
  {
   "cell_type": "markdown",
   "metadata": {},
   "source": [
    "## Repetindo o experimento...\n",
    "\n",
    "Toda vez que chamo a função `varias_moedas`, encontro um valor diferente. Como será que esses valores se distribuem ao longo de vários ($m$) ensaios?"
   ]
  },
  {
   "cell_type": "code",
   "execution_count": 5,
   "metadata": {},
   "outputs": [],
   "source": [
    "def varios_ensaios(m, n, p):\n",
    "    quantas_caras = np.zeros(n+1)\n",
    "    for _ in range(m):\n",
    "        n_caras = varias_moedas(n, p)\n",
    "        quantas_caras[n_caras] += 1\n",
    "    return quantas_caras"
   ]
  },
  {
   "cell_type": "code",
   "execution_count": 6,
   "metadata": {},
   "outputs": [
    {
     "data": {
      "image/png": "[encoded data removed]",
      "text/plain": [
       "<Figure size 800x200 with 1 Axes>"
      ]
     },
     "metadata": {},
     "output_type": "display_data"
    }
   ],
   "source": [
    "m = 1000 # Número de ensaios\n",
    "n = 15 # Moedas jogadas por ensaio\n",
    "p = 0.5 # Probabilidade de dar cara em uma moeda\n",
    "quantas_caras = varios_ensaios(m, n, p) # Quantas vezes aconteceu cada número de caras ao longo dos ensaios\n",
    "plt.figure(figsize=(8,2))\n",
    "plt.bar(range(len(quantas_caras)), quantas_caras)\n",
    "plt.xticks(range(len(quantas_caras)))\n",
    "plt.xlabel('Número de caras')\n",
    "plt.ylabel('Número de ensaios')\n",
    "plt.title('Em quantos ensaios tivemos um determinado número de caras?')\n",
    "plt.show()"
   ]
  },
  {
   "cell_type": "markdown",
   "metadata": {},
   "source": [
    "---"
   ]
  },
  {
   "cell_type": "markdown",
   "metadata": {},
   "source": [
    "## Pacote Python para distribuições"
   ]
  },
  {
   "cell_type": "code",
   "execution_count": 7,
   "metadata": {},
   "outputs": [
    {
     "name": "stdout",
     "output_type": "stream",
     "text": [
      "14\n",
      "[10 10 16 14  9 11 14  8 15 15]\n"
     ]
    }
   ],
   "source": [
    "from scipy import stats\n",
    "\n",
    "n, p = 25, 0.5\n",
    "\n",
    "# Gerar o resultado de *um* ensaio com a distribuição\n",
    "print(stats.binom.rvs(n, p))\n",
    "#significa que em 25 \"jogadas\" quantas que foram < que 0.5\n",
    "\n",
    "# Gerar o resultado de vários ensaios com a distribuição\n",
    "print(stats.binom.rvs(n, p, size=10))"
   ]
  },
  {
   "cell_type": "code",
   "execution_count": 8,
   "metadata": {},
   "outputs": [
    {
     "data": {
      "image/png": "[encoded data removed]",
      "text/plain": [
       "<Figure size 800x200 with 1 Axes>"
      ]
     },
     "metadata": {},
     "output_type": "display_data"
    }
   ],
   "source": [
    "# Gerar a função de distribuição de probabilidade\n",
    "# Veja: agora eu estou trabalhando com *esperança* (do modelo!) e não mais com amostras!\n",
    "n = 15 # Moedas jogadas por ensaio\n",
    "p = 0.5 # Probabilidade de dar cara em uma moeda\n",
    "quantas_caras = [stats.binom.pmf(y, n, p) for y in range(0,n+1)] # Probabilidade de encontrar cada número de caras ao longo dos ensaios\n",
    "plt.figure(figsize=(8,2))\n",
    "plt.bar(range(len(quantas_caras)), quantas_caras)\n",
    "plt.xticks(range(len(quantas_caras)))\n",
    "plt.xlabel('Número de caras')\n",
    "plt.ylabel('Probabilidade')\n",
    "plt.title('Probabilidade de encontrar um determinado número de caras')\n",
    "plt.show()"
   ]
  },
  {
   "cell_type": "code",
   "execution_count": 9,
   "metadata": {},
   "outputs": [
    {
     "name": "stdout",
     "output_type": "stream",
     "text": [
      "0.696380615234375\n"
     ]
    }
   ],
   "source": [
    "# E a probabilidade de encontrar um valor de caras *menor ou igual* a um determinado valor?\n",
    "# P(x<=k | n,p)\n",
    "n, p = 15, 0.5\n",
    "p_ = stats.binom.cdf(8, n, p)\n",
    "print(p_)"
   ]
  },
  {
   "cell_type": "markdown",
   "metadata": {},
   "source": [
    "<div id=\"ex1\"></div>\n",
    "\n",
    "# Exercício 1\n",
    "*Objetivo: associar parâmetros de uma distribuição estatística teórica a aspectos de um problema prático*\n",
    "\n",
    "Nesta atividade, trabalharemos com dados históricos dos jogos do Corinthians. Como somos torcedores muito exigentes, achamos que somente vitórias são resultados favoráveis, ao passo que derrotas ou empates são sempre desfavoráveis.\n",
    "\n",
    "Estamos assumindo que cada jogo do Corinthians tem uma probabilidade $p$ de ter um resultado favorável. Também, vamos assumir que cada jogo é independente dos outros, isto é, \"novo dia, novo jogo\".\n",
    "\n",
    "Então, observe que cada jogo do Corinthians é equivalente a *jogar uma moeda*. Portanto, observar vários jogos do Corinthians equivale a observar uma distribuição binomial.\n",
    "\n",
    "Usando os dados abaixo, encontre os parâmetros $n$ e $p$ dessa distribuição binomial:"
   ]
  },
  {
   "cell_type": "code",
   "execution_count": 10,
   "metadata": {},
   "outputs": [
    {
     "name": "stdout",
     "output_type": "stream",
     "text": [
      "6030 0.5190713101160862\n"
     ]
    }
   ],
   "source": [
    "import pandas as pd\n",
    "df = pd.read_csv('dados/corinthians/jogos_do_corinthians.csv')\n",
    "df.head()\n",
    "\n",
    "n = len(df)\n",
    "k = len(df[df[\"VITORIA\"] == 1])\n",
    "p = k / n \n",
    "print(n, p)\n"
   ]
  },
  {
   "cell_type": "markdown",
   "metadata": {},
   "source": [
    "# Exercício 2\n",
    "*Objetivo: calcular comportamentos prováveis usando a pmf*\n",
    "\n",
    "Quando temos uma distribuição teórica, ganhamos a \"vantagem\" de poder calcular probabilidades usando modelos matemáticos.\n",
    "\n",
    "A função `pmf` (probability mass function) do pacote `scipy.stats` calcula $P(X=k)$ à partir de parâmetros da distribuição. Nesse caso, queremos trabalhar com a distribuição binomial, então os parâmetros são os valores de $n$ e $p$. O código abaixo, por exemplo, calcula a probabilidade de encontrar $k$ caras em $n$ jogadas de moeda, com $P(H)=p$:"
   ]
  },
  {
   "cell_type": "code",
   "execution_count": 11,
   "metadata": {},
   "outputs": [
    {
     "name": "stdout",
     "output_type": "stream",
     "text": [
      "0.1761970520019531\n"
     ]
    }
   ],
   "source": [
    "import scipy.stats as st\n",
    "k = 10 # numero de caras\n",
    "n = 20  # numero de jogadas\n",
    "p = 0.5 # probabilidade de cara em uma jogada\n",
    "# significa qual a probabilidade em 20 jogadas de dar 10 vezes cara, tendo em vista que minha prob de cara em uma jogada é 0.5\n",
    "x = st.binom.pmf(k, n, p)\n",
    "print(x)"
   ]
  },
  {
   "cell_type": "markdown",
   "metadata": {},
   "source": [
    "Com base neste código, calcule a probabilidade de, se sortearmos 10 jogos aleatórios do Corinthians, encontramos exatamente 8 vitórias."
   ]
  },
  {
   "cell_type": "markdown",
   "metadata": {},
   "source": [
    "# Exercício 3\n",
    "*Objetivo: usar probabilidades cumulativas para evidenciar eventos*\n",
    "\n",
    "Outra função importante do pacote `stats` é a `cdf` (cumulative distribution function). Essa função calcula $P(x \\leq k)$. Por exemplo, para saber a probabilidade de encontrarmos 0 ou 1 caras em 5 jogadas, podemos usar tanto a soma explícita da `pmf` quanto a `cdf`:"
   ]
  },
  {
   "cell_type": "code",
   "execution_count": 12,
   "metadata": {},
   "outputs": [
    {
     "name": "stdout",
     "output_type": "stream",
     "text": [
      "0.18749999999999994 0.1875\n"
     ]
    }
   ],
   "source": [
    "import scipy.stats as st\n",
    "\n",
    "p1 = st.binom.pmf(0, 5, 0.5) + st.binom.pmf(1, 5, 0.5)\n",
    "\n",
    "# calcula a prob de \n",
    "# prob de jogar 1 moeda e sair até 1 cara\n",
    "p2 = st.binom.cdf(1, 5, 0.5) \n",
    "print(p1, p2)"
   ]
  },
  {
   "cell_type": "markdown",
   "metadata": {},
   "source": [
    "Usando a função `cdf`, calcule a probabilidade de, se sortearmos 20 jogos do corinthians:\n",
    "\n",
    "1. Encontrarmos 5 ou menos vitórias\n",
    "1. Encontrarmos 5 ou mais vitórias\n",
    "1. Encontrarmos 10 a 15 vitórias"
   ]
  },
  {
   "cell_type": "code",
   "execution_count": 13,
   "metadata": {},
   "outputs": [
    {
     "data": {
      "text/plain": [
       "0.9940910339355469"
      ]
     },
     "execution_count": 13,
     "metadata": {},
     "output_type": "execute_result"
    }
   ],
   "source": [
    "# Faça seu código aqui\n",
    "\n",
    "# 1 =\n",
    "n = 20\n",
    "k = 5\n",
    "p_vit = len(df[df[\"VITORIA\"] == 1]) / len(df)\n",
    "res1 = st.binom.cdf(k + 1, n, p_vit)\n",
    "\n",
    "# 2 = \n",
    "res2 = 1 - st.binom.cdf(k - 1, n, p)\n",
    "# k - 1 = 4 pois eu quero que o 5 seja incluido tendo em vista que:\n",
    "# cdf de k = P(x <= k) \n",
    "# logo P(x > k) = 1 - P(x <= k) \n",
    "# e P(x >= k) = 1 - P(x <= k - 1) \n",
    "\n",
    "# 3 =\n",
    "res3 = st.binom.pmf(10, n, p) + st.binom.pmf(11, n, p) + st.binom.pmf(12, n, p) + st.binom.pmf(13, n, p) + st.binom.pmf(14, n, p) + st.binom.pmf(15, n, p)\n",
    "\n",
    "res2"
   ]
  },
  {
   "cell_type": "markdown",
   "metadata": {},
   "source": [
    "# Exercício 4\n",
    "*Objetivo: usar a CDF para calcular diferenças entre grupos*\n",
    "\n",
    "Algumas pessoas dizem que jogar \"em casa\" dá uma vantagem natural aos times, e, ao jogar fora de casa, o time está em desvantagem. Isso acontece devido ao cansaço dos jogadores ao viajar, à presença da torcida, ou talvez até a particularidades do próprio campo de futebol. Neste exercício, vamos verificar se essa hipótese é real.\n",
    "\n",
    "Neste momento, já sabemos parâmetros para uma distribuição binomial que modela todos os jogos do Corinthians. \n",
    "\n",
    "(a) Encontre o número de jogos ($n_c$) e o número de vitória ($k_c$) relacionado aos jogos do Corinthians \"em casa\".\n",
    "\n",
    "(b) Assumindo que a probabilidade de vitória ($p$) é aquela que calculamos no exercício 1, qual é a probabilidade $p_0$ de encontrarmos $k_c$ ou mais vitórias em $n_c$ jogos?\n",
    "\n",
    "(c) Veja que calculamos $p_0$ *sob a hipótese* de que a probabilidade de vitória em jogos em casa é $p$. O que o valor que você encontrou para $p_0$ indica sobre essa hipótese?\n",
    "\n",
    "(d) O que pode ser dito *sobre a hipótese inicial* à partir dessa probabilidade calculada?\n",
    "\n",
    "(e) Calcule o valor $p_c = k_c/n_c$. Esse é um *novo modelo*, que usa apenas dados relacionados a jogos \"em casa\". Usando esse novo modelo, refaça o exercício (b). Como esse resultado se contrasta com o anterior?"
   ]
  },
  {
   "cell_type": "code",
   "execution_count": 14,
   "metadata": {},
   "outputs": [
    {
     "name": "stdout",
     "output_type": "stream",
     "text": [
      "2867 1750\n",
      "0.0\n",
      "0.5082004953316555\n"
     ]
    }
   ],
   "source": [
    "nc = len(df [df['TIME MANDANTE']=='CORINTHIANS'])\n",
    "kc =len(df [ (df['TIME MANDANTE']=='CORINTHIANS') & (df['VITORIA']==1) ])\n",
    "print(nc, kc)\n",
    "p = 1-st.binom.cdf(kc-1, nc, 0.51)\n",
    "print(p)\n",
    "\n",
    "pc = 1-st.binom.cdf(kc-1, nc, kc/nc)\n",
    "print(pc)"
   ]
  },
  {
   "cell_type": "markdown",
   "metadata": {},
   "source": [
    "# Exercício 5\n",
    "*Objetivo: usar um teste inferencial para encontrar viéses em uma população*\n",
    "\n",
    "A probabilidade que calculamos no exercício 4 pode ser generalizada para: \"a probabilidade de observar um efeito tão ou mais extremo quanto o que observamos, sob a hipótese de que um modelo específico se aplica\". Se esse probabilidade é muito baixa, provavelmente o modelo não se aplica - ou, ao menos, o fenômeno é muito raro.\n",
    "\n",
    "Vamos aplicar essa ideia para outro cenário. Suponha uma sala de aula com 20 pessoas. Se não há nenhum tipo de viés de gênero, então a probabilidade de uma pessoa matriculada nesse curso ser homem ou mulher é igual (a 50%). Sob esta hipótese:\n",
    "\n",
    "(a) Qual é a probabilidade de haver 12 ou mais mulheres nesse grupo? Se observarmos 12 mulheres, é seguro rejeitar a hipótese de que não há viés de gênero?\n",
    "\n",
    "(b) Qual é a probabilidade de haver 17 ou mais mulheres nesse grupo? Se observarmos 17 mulheres, é seguro rejeitar a hipótese de que não há viés de gênero?\n",
    "\n",
    "(c) Repita o experimento usando dados da sua sala de aula.\n",
    "\n",
    "(d) Repita o experimento usando dados da sua sala de aula, mas usando um modelo estimado com dados de uma outra sala de aula do seu mesmo curso (por exemplo, a turma do ano ou semestre anterior ao seu).\n"
   ]
  },
  {
   "cell_type": "code",
   "execution_count": 15,
   "metadata": {},
   "outputs": [
    {
     "name": "stdout",
     "output_type": "stream",
     "text": [
      "0.2517223358154297\n",
      "0.0012884140014648438\n"
     ]
    }
   ],
   "source": [
    "\n",
    "\n",
    "a = 1 - st.binom.cdf(11, 20, 0.5)\n",
    "# prob não é baixa suficiente para rejeitar ela pois é possível que sem vies de genero que seja formado um grupo de 11 ou mais mulheres\n",
    "print(a)\n",
    "\n",
    "b = 1 - st.binom.cdf(16, 20, 0.5)\n",
    "# se eu não tivesse vies de genero seria muito pouco provavel que tivesse 17 ou mais mulheres por isso é possível rejeitar a hipotese de que não tenha, tendo em vista que sem vies de genero seria muito pouco provavel eu atingir esse resultado\n",
    "print(b)\n"
   ]
  },
  {
   "cell_type": "markdown",
   "metadata": {},
   "source": [
    "## PrairieLearn"
   ]
  },
  {
   "cell_type": "code",
   "execution_count": 16,
   "metadata": {},
   "outputs": [
    {
     "data": {
      "text/plain": [
       "0.8054089528574492"
      ]
     },
     "execution_count": 16,
     "metadata": {},
     "output_type": "execute_result"
    }
   ],
   "source": [
    "# st.binom.pmf(6, 15, 0.569)\n",
    "# 1 - st.binom.cdf(5, 15, 0.584)\n",
    "\n",
    "# st.binom.cdf(5, 15, 0.584) - st.binom.pmf(2, 15, 0.584) \n",
    "# st.binom.cdf(7, 12, 0.585) - st.binom.cdf(4, 12, 0.585) \n",
    "\n",
    "# st.binom.pmf(8, 11, 0.573)\n",
    "\n",
    "# std = np.sqrt(6.656 * (1 - 0.512))\n",
    "# std\n",
    "\n",
    "# 1 - st.binom.cdf(12, 78, 0.090)\n",
    "\n",
    "# Bernoulli = probababilidade relacionada a um experimento que tem 2 saídas possíveis (prob de um unico experimento)\n",
    "# Binomial = executa varias vezes Bernoulli identicos e independetes, nesse caso qual a probabilidade se executar n experimentos ter k sucesso\n",
    "\n",
    "(st.binom.cdf(7, 10, 0.596) - st.binom.cdf(4, 10, 0.596)) / (1 - st.binom.cdf(4, 10, 0.596))"
   ]
  }
 ],
 "metadata": {
  "anaconda-cloud": {},
  "kernelspec": {
   "display_name": "Python 3.7.12",
   "language": "python",
   "name": "python3"
  },
  "language_info": {
   "codemirror_mode": {
    "name": "ipython",
    "version": 3
   },
   "file_extension": ".py",
   "mimetype": "text/x-python",
   "name": "python",
   "nbconvert_exporter": "python",
   "pygments_lexer": "ipython3",
   "version": "3.11.6"
  },
  "vscode": {
   "interpreter": {
    "hash": "48a163085726af4aa892ebfc5efd6be8ee4b935d9ea37781e4f79f4457b77d39"
   }
  }
 },
 "nbformat": 4,
 "nbformat_minor": 4
}
