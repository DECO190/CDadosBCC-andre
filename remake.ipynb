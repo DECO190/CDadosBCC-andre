{
 "cells": [
  {
   "cell_type": "code",
   "execution_count": 2,
   "metadata": {},
   "outputs": [],
   "source": [
    "import scipy.stats as st\n",
    "import numpy as np\n",
    "import pandas as pd\n",
    "import matplotlib.pyplot as plt"
   ]
  },
  {
   "cell_type": "markdown",
   "metadata": {},
   "source": [
    "## Teste de hipótese com TLC"
   ]
  },
  {
   "cell_type": "code",
   "execution_count": 3,
   "metadata": {},
   "outputs": [
    {
     "name": "stdout",
     "output_type": "stream",
     "text": [
      "23.04431517347333\n",
      "22.379049307874883\n"
     ]
    }
   ],
   "source": [
    "# ======================= 1\n",
    "# n = 87\n",
    "# scale = 0.6 / n ** 0.5\n",
    "# mu = 2.8\n",
    "# print(st.norm.ppf(0.99, loc=mu, scale=scale))\n",
    "\n",
    "# ======================= 2\n",
    "# mu = 15\n",
    "# sigma = 16 ** 0.5\n",
    "# n = 25\n",
    "# scale = sigma / n ** 0.5\n",
    "\n",
    "# 1 - st.norm.cdf(17.4, loc=15, scale=scale)\n",
    "\n",
    "# ======================== 3\n",
    "\n",
    "# mu = 4\n",
    "# sigma = 0.5\n",
    "# n = 102\n",
    "# scale = sigma / n ** 0.5\n",
    "\n",
    "# # 1 - st.norm.cdf(2.16, loc=mu, scale=scale)\n",
    "\n",
    "# st.norm.ppf(0.995, loc=mu, scale=scale)\n",
    "\n",
    "# ======================== 4\n",
    "mu = 29\n",
    "sigma = 9\n",
    "n = 85\n",
    "x_bar = 22.71\n",
    "\n",
    "scale = sigma / n ** 0.5\n",
    "\n",
    "print(st.norm.ppf(0.05, loc=mu * 0.85, scale=scale))\n",
    "print(st.norm.ppf(0.01, loc=mu * 0.85, scale=scale))"
   ]
  },
  {
   "cell_type": "markdown",
   "metadata": {},
   "source": [
    "## Teste de hipótese com t-teste\n"
   ]
  },
  {
   "cell_type": "code",
   "execution_count": 46,
   "metadata": {},
   "outputs": [
    {
     "data": {
      "text/plain": [
       "TtestResult(statistic=-1.9090909090909092, pvalue=0.07556963474151511, df=15)"
      ]
     },
     "execution_count": 46,
     "metadata": {},
     "output_type": "execute_result"
    }
   ],
   "source": [
    "# ============================== 1:\n",
    "# mu_0 = 26 * 0.85\n",
    "# n = 99\n",
    "# x_bar = 20.75\n",
    "# s = 7\n",
    "\n",
    "# t_obs = (x_bar - mu_0) / (s / np.sqrt(n))\n",
    "\n",
    "# st.t.ppf(0.01, n - 1)\n",
    "\n",
    "# st.t.cdf(t_obs, df=n-1)\n",
    "\n",
    "\n",
    "# ============================== 2:\n",
    "amostras = pd.Series([49,47,44,53,53,51,51,47,50,51,46,51,52,47,53,50])\n",
    "\n",
    "t_obs = (amostras.mean() - 51) / (amostras.std() / (len(amostras) ** 0.5))\n",
    "scale = amostras.std() / len(amostras) ** 0.5\n",
    "\n",
    "tc = st.t.ppf(0.1 / 2, df=len(amostras) - 1)\n",
    "st.ttest_1samp(amostras, popmean=51)\n"
   ]
  }
 ],
 "metadata": {
  "kernelspec": {
   "display_name": "Python 3",
   "language": "python",
   "name": "python3"
  },
  "language_info": {
   "codemirror_mode": {
    "name": "ipython",
    "version": 3
   },
   "file_extension": ".py",
   "mimetype": "text/x-python",
   "name": "python",
   "nbconvert_exporter": "python",
   "pygments_lexer": "ipython3",
   "version": "3.11.6"
  }
 },
 "nbformat": 4,
 "nbformat_minor": 2
}
