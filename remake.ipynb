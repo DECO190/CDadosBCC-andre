{
 "cells": [
  {
   "cell_type": "code",
   "execution_count": 3,
   "metadata": {},
   "outputs": [],
   "source": [
    "import scipy.stats as st\n",
    "import numpy as np\n",
    "import pandas as pd\n",
    "import matplotlib.pyplot as plt"
   ]
  },
  {
   "cell_type": "markdown",
   "metadata": {},
   "source": [
    "## Teste de hipótese com TLC"
   ]
  },
  {
   "cell_type": "code",
   "execution_count": 62,
   "metadata": {},
   "outputs": [
    {
     "name": "stdout",
     "output_type": "stream",
     "text": [
      "24.62809723906624\n",
      "24.05969174460581\n"
     ]
    }
   ],
   "source": [
    "# ======================= 1\n",
    "# n = 87\n",
    "# scale = 0.6 / n ** 0.5\n",
    "# mu = 2.8\n",
    "# print(st.norm.ppf(0.99, loc=mu, scale=scale))\n",
    "\n",
    "# ======================= 2\n",
    "# mu = 15\n",
    "# sigma = 16 ** 0.5\n",
    "# n = 25\n",
    "# scale = sigma / n ** 0.5\n",
    "\n",
    "# 1 - st.norm.cdf(17.4, loc=15, scale=scale)\n",
    "\n",
    "# ======================== 3\n",
    "\n",
    "# mu = 4\n",
    "# sigma = 0.5\n",
    "# n = 102\n",
    "# scale = sigma / n ** 0.5\n",
    "\n",
    "# # 1 - st.norm.cdf(2.16, loc=mu, scale=scale)\n",
    "\n",
    "# st.norm.ppf(0.995, loc=mu, scale=scale)\n",
    "\n",
    "# ======================== 4\n",
    "mu = 26\n",
    "sigma = 8\n",
    "n = 92\n",
    "x_bar = 20.44\n",
    "\n",
    "scale = sigma / n ** 0.5\n",
    "\n",
    "print(st.norm.ppf(0.05, loc=x_bar, scale=scale))\n",
    "print(st.norm.ppf(0.01, loc=mu, scale=scale))"
   ]
  },
  {
   "cell_type": "markdown",
   "metadata": {},
   "source": [
    "## Teste de hipótese com t-teste\n"
   ]
  },
  {
   "cell_type": "code",
   "execution_count": 64,
   "metadata": {},
   "outputs": [
    {
     "data": {
      "text/plain": [
       "0.43055413611371507"
      ]
     },
     "execution_count": 64,
     "metadata": {},
     "output_type": "execute_result"
    }
   ],
   "source": [
    "# ============================== 1\n",
    "\n",
    "mu = 28\n",
    "mu_0 = 27 * 0.85\n",
    "n = 97\n",
    "x_bar = 21.78\n",
    "s = 6\n",
    "\n",
    "t = (x_bar-mu)/(s/np.sqrt(n))\n",
    "scale = s / n ** 0.5\n",
    "st.t.ppf(0.005, scale=scale, loc=x_bar, df=n-1)\n",
    "\n",
    "(1 - st.t.cdf(mu_0, scale=scale, loc=x_bar, df=n-1)) * 2\n",
    "\n",
    "mu = 75.5\n",
    "sigma = 3.5\n",
    "n = 6\n",
    "\n",
    "scale = sigma / n ** 0.5\n",
    "\n",
    "1 - st.norm.cdf(75.75, loc=mu, scale=scale) "
   ]
  }
 ],
 "metadata": {
  "kernelspec": {
   "display_name": "Python 3",
   "language": "python",
   "name": "python3"
  },
  "language_info": {
   "codemirror_mode": {
    "name": "ipython",
    "version": 3
   },
   "file_extension": ".py",
   "mimetype": "text/x-python",
   "name": "python",
   "nbconvert_exporter": "python",
   "pygments_lexer": "ipython3",
   "version": "3.11.6"
  }
 },
 "nbformat": 4,
 "nbformat_minor": 2
}
