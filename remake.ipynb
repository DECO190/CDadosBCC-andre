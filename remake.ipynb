{
 "cells": [
  {
   "cell_type": "code",
   "execution_count": 2,
   "metadata": {},
   "outputs": [],
   "source": [
    "import scipy.stats as st\n",
    "import numpy as np\n",
    "import pandas as pd\n",
    "import matplotlib.pyplot as plt"
   ]
  },
  {
   "cell_type": "markdown",
   "metadata": {},
   "source": [
    "## Teste de hipótese com TLC"
   ]
  },
  {
   "cell_type": "code",
   "execution_count": 3,
   "metadata": {},
   "outputs": [
    {
     "name": "stdout",
     "output_type": "stream",
     "text": [
      "23.04431517347333\n",
      "22.379049307874883\n"
     ]
    }
   ],
   "source": [
    "# ======================= 1\n",
    "# n = 87\n",
    "# scale = 0.6 / n ** 0.5\n",
    "# mu = 2.8\n",
    "# print(st.norm.ppf(0.99, loc=mu, scale=scale))\n",
    "\n",
    "# ======================= 2\n",
    "# mu = 15\n",
    "# sigma = 16 ** 0.5\n",
    "# n = 25\n",
    "# scale = sigma / n ** 0.5\n",
    "\n",
    "# 1 - st.norm.cdf(17.4, loc=15, scale=scale)\n",
    "\n",
    "# ======================== 3\n",
    "\n",
    "# mu = 4\n",
    "# sigma = 0.5\n",
    "# n = 102\n",
    "# scale = sigma / n ** 0.5\n",
    "\n",
    "# # 1 - st.norm.cdf(2.16, loc=mu, scale=scale)\n",
    "\n",
    "# st.norm.ppf(0.995, loc=mu, scale=scale)\n",
    "\n",
    "# ======================== 4\n",
    "mu = 29\n",
    "sigma = 9\n",
    "n = 85\n",
    "x_bar = 22.71\n",
    "\n",
    "scale = sigma / n ** 0.5\n",
    "\n",
    "print(st.norm.ppf(0.05, loc=mu * 0.85, scale=scale))\n",
    "print(st.norm.ppf(0.01, loc=mu * 0.85, scale=scale))"
   ]
  },
  {
   "cell_type": "markdown",
   "metadata": {},
   "source": [
    "## Teste de hipótese com t-teste\n"
   ]
  },
  {
   "cell_type": "code",
   "execution_count": 4,
   "metadata": {},
   "outputs": [],
   "source": [
    "# ============================== 1:\n",
    "# mu_0 = 26 * 0.85\n",
    "# n = 99\n",
    "# x_bar = 20.75\n",
    "# s = 7\n",
    "\n",
    "# t_obs = (x_bar - mu_0) / (s / np.sqrt(n))\n",
    "\n",
    "# st.t.ppf(0.01, n - 1)\n",
    "\n",
    "# st.t.cdf(t_obs, df=n-1)\n",
    "\n",
    "\n",
    "# ============================== 3:\n",
    "# amostras = pd.Series([49,47,44,53,53,51,51,47,50,51,46,51,52,47,53,50])\n",
    "\n",
    "# t_obs = (amostras.mean() - 51) / (amostras.std() / (len(amostras) ** 0.5))\n",
    "# scale = amostras.std() / len(amostras) ** 0.5\n",
    "\n",
    "# tc = st.t.ppf(0.1 / 2, df=len(amostras) - 1)\n",
    "# st.ttest_1samp(amostras, popmean=51)\n"
   ]
  },
  {
   "cell_type": "markdown",
   "metadata": {},
   "source": [
    "## Binomial "
   ]
  },
  {
   "cell_type": "code",
   "execution_count": 19,
   "metadata": {},
   "outputs": [
    {
     "data": {
      "text/plain": [
       "0.03101503494888158"
      ]
     },
     "execution_count": 19,
     "metadata": {},
     "output_type": "execute_result"
    }
   ],
   "source": [
    "# ========================== 1:\n",
    "# p1 = st.binom.pmf(6, 11, 0.564) \n",
    "# p1\n",
    "\n",
    "# ========================== 2:\n",
    "# 1 - st.binom.cdf(5, 14, 0.514)\n",
    "\n",
    "# ========================== 3:\n",
    "# mais_de_4_faliram = 1 - st.binom.cdf(3, 11, 0.584)\n",
    "# max_6_falirem = st.binom.cdf(6, 11, 0.584)\n",
    "# # P (x <= 6 | x >= 4) \n",
    "# p1 = (st.binom.cdf(6, 11, 0.584) - st.binom.cdf(3, 11, 0.584)) / mais_de_4_faliram \n",
    "# p1\n",
    "\n",
    "# ========================== 4:\n",
    "# p = 0.512\n",
    "# n = 10\n",
    "\n",
    "# p1 = n * p\n",
    "# st.binom.std(n, p)\n",
    "\n",
    "# ========================== 4:\n",
    "# 1 - st.binom.cdf(13, 80, 0.102)"
   ]
  },
  {
   "cell_type": "markdown",
   "metadata": {},
   "source": [
    "## Poisson"
   ]
  },
  {
   "cell_type": "code",
   "execution_count": 52,
   "metadata": {},
   "outputs": [
    {
     "data": {
      "text/plain": [
       "0.004782423405388861"
      ]
     },
     "execution_count": 52,
     "metadata": {},
     "output_type": "execute_result"
    }
   ],
   "source": [
    "# ================================= 1:\n",
    "# L = 0.89 / 10\n",
    "\n",
    "# p1 = 1 - st.poisson.pmf(0, L)\n",
    "\n",
    "# # p (X <= 2 | x > 0)\n",
    "\n",
    "# p2 = st.poisson.cdf(2, L) - st.poisson.cdf(-1, L) / p1\n",
    "\n",
    "# p3 = 1 - st.binom.cdf(2, 10, p1)\n",
    "\n",
    "# ============================== 2:\n",
    "\n",
    "# L = 0.77\n",
    "# p1 = 1 - st.poisson.cdf(0, L)\n",
    "\n",
    "# # P (9<=x<=14 | x >= 1)\n",
    "\n",
    "# p2 = (st.poisson.cdf(14, L * 7) - st.poisson.cdf(8, L * 7)) / (1 - st.poisson.cdf(0, L * 7))\n",
    "\n",
    "# p3 = st.binom.pmf(20, 46, p1)\n",
    "# p3\n",
    "\n",
    "# ============================== 3:\n",
    "# p1 = 1 - st.binom.cdf(0, 131, 0.008)\n",
    "\n",
    "# # P (x >= 2 | x >= 1) \n",
    "\n",
    "# p2 =( 1 - st.binom.cdf(1, 131, 0.008) )/ p1\n",
    "\n",
    "# st.binom.mean(131, 0.008)\n",
    "# st.binom.std(131, 0.008)\n",
    "\n",
    "# ============================== 4:\n",
    "# p = 5.7 / 45\n",
    "\n",
    "# 1- st.binom.cdf(3, 45, p)\n",
    "\n",
    "# ============================== 5:\n",
    "# avistamentos = np.array([230, 250, 217, 251, 242, 246, 225, 192, 229, 227])\n",
    "# L = avistamentos.mean()\n",
    "\n",
    "# st.poisson.cdf(192, L)\n"
   ]
  },
  {
   "cell_type": "markdown",
   "metadata": {},
   "source": [
    "## Exponencial + Normal"
   ]
  },
  {
   "cell_type": "code",
   "execution_count": 86,
   "metadata": {},
   "outputs": [
    {
     "data": {
      "text/plain": [
       "0.23752526202697655"
      ]
     },
     "execution_count": 86,
     "metadata": {},
     "output_type": "execute_result"
    }
   ],
   "source": [
    "# ================================== 1:\n",
    "# st.expon.cdf(545, scale=574)\n",
    "\n",
    "# (st.expon.cdf(105, scale=574) - st.expon.cdf(87, scale=574)) / st.expon.cdf(105, scale=574)\n",
    "\n",
    "# st.expon.ppf(0.973, scale=574)\n",
    "# st.expon.ppf(1 - 0.936, scale=574)\n",
    "\n",
    "#=================================== 2:\n",
    "# sigma = 196 ** 0.5\n",
    "# mu = 105\n",
    "\n",
    "# st.norm.cdf(80, scale=sigma, loc=mu)\n",
    "\n",
    "# (st.norm.cdf(96, scale=sigma, loc=mu) - st.norm.cdf(80, scale=sigma, loc=mu)) / st.norm.cdf(96, scale=sigma, loc=mu) \n",
    "\n",
    "# st.norm.ppf(0.978, scale=sigma, loc=mu)\n",
    "# st.norm.ppf(1 - 0.942, scale=sigma, loc=mu)\n",
    "\n",
    "# mu - st.norm.ppf(0.01/2, loc=mu, scale=sigma)\n",
    "\n",
    "#=================================== 3:\n",
    "\n",
    "# mu = 115\n",
    "# sigma = 225 ** 0.5\n",
    "\n",
    "# st.norm.cdf(89, scale=sigma, loc=mu)\n",
    "\n",
    "# (st.norm.cdf(92, scale=sigma, loc=mu) - st.norm.cdf(72, scale=sigma, loc=mu)) / st.norm.cdf(92, scale=sigma, loc=mu) \n",
    "\n",
    "# st.norm.ppf(0.979, scale=sigma, loc=mu)\n",
    "# st.norm.ppf(1 - 0.936, scale=sigma, loc=mu)\n",
    "\n",
    "# mu - st.norm.ppf(0.01/2, loc=mu, scale=sigma)\n",
    "\n",
    "# =================================== 4:\n",
    "# mu = 6.5\n",
    "# sigma = 1.4\n",
    "\n",
    "# print(st.norm.ppf(0.7, scale=sigma, loc=mu))\n",
    "# print(st.norm.ppf(0.2, scale=sigma, loc=mu))\n",
    "\n",
    "# scale = sigma / 67 ** 0.5\n",
    "\n",
    "# =================================== 5:\n",
    "# mu_pop = 71\n",
    "# sigma_pop = 14\n",
    "\n",
    "# st.norm.ppf(0.27, scale=sigma_pop, loc=mu_pop)\n",
    "\n",
    "# 1 - st.norm.cdf(81, scale=sigma_pop, loc=mu_pop)\n"
   ]
  },
  {
   "cell_type": "markdown",
   "metadata": {},
   "source": [
    "## Teorema Central do Limite"
   ]
  },
  {
   "cell_type": "code",
   "execution_count": 103,
   "metadata": {},
   "outputs": [
    {
     "data": {
      "text/plain": [
       "0.010058079733282432"
      ]
     },
     "execution_count": 103,
     "metadata": {},
     "output_type": "execute_result"
    }
   ],
   "source": [
    "# =========================== 1:\n",
    "# mu = 8.2\n",
    "# sigma = 1.8\n",
    "\n",
    "# st.norm.ppf(0.025, scale=sigma, loc=mu)\n",
    "# st.norm.ppf(0.975, scale=sigma, loc=mu)\n",
    "\n",
    "# ============================ 2:\n",
    "# mu = 8.5\n",
    "# sigma = 1.5\n",
    "# n = 52\n",
    "# scale = sigma / n ** 0.5\n",
    "\n",
    "# # st.norm.ppf(0.025, scale=scale, loc=mu)\n",
    "# st.norm.ppf(0.975, scale=scale, loc=mu)\n",
    "\n",
    "# ============================= 3:\n",
    "# mu = 1.09\n",
    "# sigma = 0.005\n",
    "# n = 18\n",
    "# scale = sigma / n ** 0.5\n",
    "\n",
    "# st.norm.cdf(1.092, scale=scale, loc=mu) - st.norm.cdf(1.089, scale=scale, loc=mu)\n",
    "\n",
    "# =============================== 4:\n",
    "# mu = 8.6\n",
    "# sigma = 1.9\n",
    "# n = 56\n",
    "# scale = sigma / n ** 0.5\n",
    "\n",
    "# p1 = st.norm.cdf(9.5, scale=scale, loc=mu) \n",
    "# p1\n",
    "\n",
    "# p2 = st.norm.cdf(8.9, scale=scale, loc=mu) - st.norm.cdf(8.4, scale=scale, loc=mu) \n",
    "\n",
    "# p3 = st.norm.ppf(0.95, scale=scale, loc=mu)\n",
    "# p3\n",
    "\n",
    "# p4 = st.norm.ppf(0.05, scale=scale, loc=mu)\n",
    "# p4 \n",
    "\n",
    "# ==================================== 5:\n",
    "# mu = 52 \n",
    "# sigma = 14 ** 0.5\n",
    "# n = 10\n",
    "# scale = sigma / n ** 0.5\n",
    "\n",
    "# 1 - st.norm.cdf(54.75, loc=mu, scale=scale)\n"
   ]
  },
  {
   "cell_type": "markdown",
   "metadata": {},
   "source": [
    "## Treino para a Avaliação Final\n"
   ]
  },
  {
   "cell_type": "code",
   "execution_count": 112,
   "metadata": {},
   "outputs": [
    {
     "data": {
      "text/plain": [
       "TtestResult(statistic=-8.578754355318555, pvalue=1.6941618675436876e-14, df=139.0)"
      ]
     },
     "execution_count": 112,
     "metadata": {},
     "output_type": "execute_result"
    }
   ],
   "source": [
    "# ================================== UVAS PASSAS\n",
    "# L = 66 / 100\n",
    "\n",
    "# st.poisson.pmf(0, L)\n",
    "# 1 - st.poisson.cdf(11, L)\n",
    "\n",
    "# st.expon.ppf(0.94, 1 / 54)\n",
    "\n",
    "# ================================== LIMOEIRO\n",
    "\n",
    "controle = np.array([32, 38, 30, 31, 29, 30, 32, 26, 30, 39, 39, 26, 36, 27, 28, 25, 29, 35, 31, 30, 35, 27, 33, 27, 30, 28, 23, 48, 22, 25, 31, 21, 28, 25, 38, 37, 24, 34, 18, 38, 38, 35, 27, 35, 33, 31, 28, 34, 28, 50, 29, 28, 25, 31, 35, 27, 28, 21, 42, 29, 35, 26, 35, 27, 38, 20, 26, 25])\n",
    "experimento = np.array([42, 40, 47, 40, 33, 36, 33, 53, 46, 35, 43, 37, 42, 46, 40, 38, 52, 34, 31, 36, 52, 35, 35, 42, 37, 43, 35, 53, 27, 51, 41, 44, 34, 37, 39, 39, 37, 44, 47, 45, 31, 29, 50, 37, 46, 50, 26, 50, 28, 32, 39, 32, 49, 52, 35, 39, 42, 45, 44, 38, 46, 43, 39, 46, 37, 37, 48, 30, 37, 34, 40, 45, 26])\n",
    "\n",
    "st.ttest_ind(controle, experimento)\n"
   ]
  }
 ],
 "metadata": {
  "kernelspec": {
   "display_name": "Python 3",
   "language": "python",
   "name": "python3"
  },
  "language_info": {
   "codemirror_mode": {
    "name": "ipython",
    "version": 3
   },
   "file_extension": ".py",
   "mimetype": "text/x-python",
   "name": "python",
   "nbconvert_exporter": "python",
   "pygments_lexer": "ipython3",
   "version": "3.11.6"
  }
 },
 "nbformat": 4,
 "nbformat_minor": 2
}
