{
 "cells": [
  {
   "cell_type": "code",
   "execution_count": 22,
   "metadata": {},
   "outputs": [
    {
     "name": "stdout",
     "output_type": "stream",
     "text": [
      "187.16280000000003 63.19002054248756\n"
     ]
    }
   ],
   "source": [
    "# ========================== CONCEDIDO\n",
    "p_cinema = 0.72\n",
    "p_teatro = 0.28\n",
    "\n",
    "p_jantar_dado_cinema = 0.76\n",
    "p_n_jantar_dado_cinema = 0.24\n",
    "\n",
    "p_jantar_dado_teatro = 0.39\n",
    "p_n_jantar_dado_teatro = 0.61\n",
    "\n",
    "custo_jantar = 127\n",
    "custo_cinema = 73\n",
    "custo_teatro = 183\n",
    "\n",
    "\n",
    "# ========================== TABELA\n",
    "p_jantar_e_cinema = p_jantar_dado_cinema * p_cinema\n",
    "p_n_jantar_e_cinema = p_n_jantar_dado_cinema * p_cinema\n",
    "p_jantar_e_teatro = p_jantar_dado_teatro * p_teatro\n",
    "p_n_jantar_e_teatro = p_n_jantar_dado_teatro * p_teatro\n",
    "\n",
    "\n",
    "esp = p_jantar_e_cinema * (custo_jantar + custo_cinema) + p_n_jantar_e_cinema * (custo_cinema) + p_jantar_e_teatro * (custo_teatro + custo_jantar) + p_n_jantar_e_teatro * (custo_teatro)\n",
    "\n",
    "\n",
    "var = p_jantar_e_cinema * ((esp - (custo_jantar + custo_cinema)) ** 2) + p_n_jantar_e_cinema * ((esp - (custo_cinema)) ** 2) + p_jantar_e_teatro * ((esp - (custo_teatro + custo_jantar)) ** 2) + p_n_jantar_e_teatro * ((esp - (custo_teatro)) ** 2)\n",
    "\n",
    "desvio_padrao = var ** 0.5 # significa que se minha esp é 150 por exemplo e meu dp é 20 significa que eu posso gastar até 150 + 20 ou 150 - 20\n",
    "\n",
    "print(esp, desvio_padrao)"
   ]
  },
  {
   "cell_type": "code",
   "execution_count": 24,
   "metadata": {},
   "outputs": [
    {
     "name": "stdout",
     "output_type": "stream",
     "text": [
      "170.13838000000004 53.71151746111443\n"
     ]
    }
   ],
   "source": [
    "# ========================== CONCEDIDO\n",
    "p_cinema = 0.72\n",
    "p_teatro = 0.28\n",
    "\n",
    "p_jantar_dado_cinema = 0.76\n",
    "p_n_jantar_dado_cinema = 0.24\n",
    "\n",
    "p_jantar_dado_teatro = 0.39\n",
    "p_n_jantar_dado_teatro = 0.61\n",
    "\n",
    "custo_jantar = 127\n",
    "custo_cinema = 73\n",
    "custo_teatro = 183\n",
    "\n",
    "\n",
    "# ========================== TABELA\n",
    "p_jantar_e_cinema = p_jantar_dado_cinema * p_cinema\n",
    "p_n_jantar_e_cinema = p_n_jantar_dado_cinema * p_cinema\n",
    "p_jantar_e_teatro = p_jantar_dado_teatro * p_teatro\n",
    "p_n_jantar_e_teatro = p_n_jantar_dado_teatro * p_teatro\n",
    "\n",
    "\n",
    "custo_jantar_e_cinema = (custo_jantar + custo_cinema + 13) * 0.85\n",
    "custo_n_jantar_e_cinema = (custo_cinema + 13) * 0.85\n",
    "custo_jantar_e_teatro = (custo_teatro + custo_jantar + 13) * 0.85\n",
    "custo_n_jantar_e_teatro = (custo_teatro + 13) * 0.85\n",
    "\n",
    "esp = p_jantar_e_cinema * custo_jantar_e_cinema + p_n_jantar_e_cinema * custo_n_jantar_e_cinema + p_jantar_e_teatro * custo_jantar_e_teatro + p_n_jantar_e_teatro * custo_n_jantar_e_teatro\n",
    "\n",
    "\n",
    "var = p_jantar_e_cinema * ((esp - custo_jantar_e_cinema) ** 2) + p_n_jantar_e_cinema * ((esp - custo_n_jantar_e_cinema) ** 2) + p_jantar_e_teatro * ((esp - custo_jantar_e_teatro) ** 2) + p_n_jantar_e_teatro * ((esp - custo_n_jantar_e_teatro) ** 2)\n",
    "desvio_padrao = var ** 0.5\n",
    "\n",
    "print(esp, desvio_padrao)"
   ]
  },
  {
   "cell_type": "code",
   "execution_count": null,
   "metadata": {},
   "outputs": [],
   "source": []
  }
 ],
 "metadata": {
  "kernelspec": {
   "display_name": "Python 3",
   "language": "python",
   "name": "python3"
  },
  "language_info": {
   "codemirror_mode": {
    "name": "ipython",
    "version": 3
   },
   "file_extension": ".py",
   "mimetype": "text/x-python",
   "name": "python",
   "nbconvert_exporter": "python",
   "pygments_lexer": "ipython3",
   "version": "3.11.1"
  },
  "orig_nbformat": 4
 },
 "nbformat": 4,
 "nbformat_minor": 2
}
